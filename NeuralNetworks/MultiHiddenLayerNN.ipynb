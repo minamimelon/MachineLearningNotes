{
 "cells": [
  {
   "cell_type": "markdown",
   "metadata": {},
   "source": [
    "# Vannishing Grad, sadly"
   ]
  },
  {
   "cell_type": "code",
   "execution_count": 1,
   "metadata": {},
   "outputs": [],
   "source": [
    "import numpy as np\n",
    "import struct,os\n",
    "from array import array as pyarray\n",
    "from numpy import append, array, int8, uint8, zeros\n",
    "import torch\n",
    "\n",
    "def load_mnist(image_file, label_file):\n",
    "    digits=np.arange(10)\n",
    "\n",
    "    fname_image = os.path.join(\"../\"+image_file)\n",
    "    fname_label = os.path.join(\"../\"+label_file)\n",
    "\n",
    "    flbl = open(fname_label, 'rb')\n",
    "    magic_nr, size = struct.unpack(\">II\", flbl.read(8))\n",
    "    lbl = pyarray(\"b\", flbl.read())\n",
    "    flbl.close()\n",
    "\n",
    "    fimg = open(fname_image, 'rb')\n",
    "    magic_nr, size, rows, cols = struct.unpack(\">IIII\", fimg.read(16))\n",
    "    img = pyarray(\"B\", fimg.read())\n",
    "    fimg.close()\n",
    "\n",
    "    ind = [ k for k in range(size) if lbl[k] in digits ]\n",
    "    N = len(ind)\n",
    "\n",
    "    images = zeros((N, rows*cols), dtype=uint8)\n",
    "    labels = zeros((N, 1), dtype=int8)\n",
    "    for i in range(len(ind)):\n",
    "        images[i] = array(img[ ind[i]*rows*cols : (ind[i]+1)*rows*cols ]).reshape((1, rows*cols))\n",
    "        labels[i] = lbl[ind[i]]\n",
    "\n",
    "    return images, labels\n",
    "\n",
    "train_image, train_label = load_mnist(\"train-images.idx3-ubyte\", \"train-labels.idx1-ubyte\")\n",
    "test_image, test_label = load_mnist(\"t10k-images.idx3-ubyte\", \"t10k-labels.idx1-ubyte\")\n"
   ]
  },
  {
   "cell_type": "code",
   "execution_count": 2,
   "metadata": {},
   "outputs": [],
   "source": [
    "device = 'cuda' if torch.cuda.is_available() else 'cpu'\n",
    "#device ='cpu'\n",
    "layers=4\n",
    "lsize=[train_image.shape[1],17*17,16*16,15*15,10]\n",
    "\n",
    "W=[(torch.randn(lsize[i],lsize[i+1],dtype=torch.float32)*(1/lsize[i])).to(device) for i in range(layers)]\n",
    "b=[torch.randn(lsize[i],dtype=torch.float32).to(device) for i in range(1,layers+1)]\n",
    "\n",
    "ty=torch.zeros([train_image.shape[0],lsize[len(lsize)-1]],dtype=torch.float32).to(device)\n",
    "for i in range(train_image.shape[0]):\n",
    "    ty[i][train_label[i].item()]=1.0"
   ]
  },
  {
   "cell_type": "code",
   "execution_count": 3,
   "metadata": {},
   "outputs": [
    {
     "name": "stdout",
     "output_type": "stream",
     "text": [
      "W's shape is\n",
      "torch.Size([784, 289])\n",
      "torch.Size([289, 256])\n",
      "torch.Size([256, 225])\n",
      "torch.Size([225, 10])\n",
      "b's shape is\n",
      "torch.Size([289])\n",
      "torch.Size([256])\n",
      "torch.Size([225])\n",
      "torch.Size([10])\n"
     ]
    }
   ],
   "source": [
    "print(\"W's shape is\")\n",
    "for i in range(len(W)):\n",
    "    print(W[i].shape)\n",
    "print(\"b's shape is\")\n",
    "for i in range(len(b)):\n",
    "    print(b[i].shape)"
   ]
  },
  {
   "cell_type": "code",
   "execution_count": 4,
   "metadata": {},
   "outputs": [],
   "source": [
    "# device = 'cuda' if torch.cuda.is_available() else 'cpu'\n",
    "train_image=torch.from_numpy(train_image).float().to(device)\n",
    "train_label=torch.from_numpy(train_label).int().to(device)\n",
    "test_image=torch.from_numpy(test_image).float().to(device)\n",
    "test_label=torch.from_numpy(test_label).int().to(device)"
   ]
  },
  {
   "cell_type": "code",
   "execution_count": 29,
   "metadata": {},
   "outputs": [],
   "source": [
    "m = torch.nn.Sigmoid()\n",
    "A=[]\n",
    "def predict(img):\n",
    "    A.clear()\n",
    "    A.append(m(img@W[0]+b[0]))\n",
    "    for i in range(layers-1):\n",
    "        A.append(m(A[i]@W[i+1]+b[i+1]))\n",
    "    return A[len(A)-1]"
   ]
  },
  {
   "cell_type": "code",
   "execution_count": 8,
   "metadata": {},
   "outputs": [
    {
     "name": "stdout",
     "output_type": "stream",
     "text": [
      "A's shape is\n",
      "torch.Size([60000, 289])\n",
      "torch.Size([60000, 256])\n",
      "torch.Size([60000, 225])\n",
      "torch.Size([60000, 10])\n"
     ]
    }
   ],
   "source": [
    "print(\"A's shape is\")\n",
    "for i in range(len(A)):\n",
    "    print(A[i].shape)"
   ]
  },
  {
   "cell_type": "code",
   "execution_count": 131,
   "metadata": {},
   "outputs": [
    {
     "name": "stdout",
     "output_type": "stream",
     "text": [
      "0.6083666667\n"
     ]
    }
   ],
   "source": [
    "def train_accu():\n",
    "    err=0\n",
    "    Y=torch.argmax(predict(train_image),dim=1)\n",
    "    for i in range(Y.shape[0]):\n",
    "        if(Y[i]!=train_label[i]):\n",
    "            err+=1\n",
    "    return (1-err/train_image.shape[0])\n",
    "print(\"%.10lf\"%train_accu())"
   ]
  },
  {
   "cell_type": "code",
   "execution_count": 130,
   "metadata": {},
   "outputs": [
    {
     "name": "stdout",
     "output_type": "stream",
     "text": [
      "0.5935000000\n"
     ]
    }
   ],
   "source": [
    "def genaralization_accu():\n",
    "    err=0\n",
    "    Y=torch.argmax(predict(test_image),dim=1)\n",
    "    for i in range(Y.shape[0]):\n",
    "        if(Y[i]!=test_label[i]):\n",
    "            err+=1\n",
    "    return (1-err/test_image.shape[0])\n",
    "print(\"%.10lf\"%genaralization_accu())"
   ]
  },
  {
   "cell_type": "code",
   "execution_count": 129,
   "metadata": {},
   "outputs": [
    {
     "name": "stdout",
     "output_type": "stream",
     "text": [
      "23573.42578125\n"
     ]
    }
   ],
   "source": [
    "def loss():\n",
    "    tmp=(predict(train_image)-ty)\n",
    "    # print((tmp*tmp).shape)\n",
    "    return (tmp*tmp).sum().item()\n",
    "print(loss())"
   ]
  },
  {
   "cell_type": "code",
   "execution_count": 41,
   "metadata": {},
   "outputs": [],
   "source": [
    "torch.set_printoptions(precision=10)"
   ]
  },
  {
   "cell_type": "code",
   "execution_count": 134,
   "metadata": {},
   "outputs": [],
   "source": [
    "db=torch.load(\"model_all_sigmoid.pth\")\n",
    "for i in range(layers):\n",
    "    W[i]=db[\"W\"+str(i)]\n",
    "for i in range(layers):\n",
    "    b[i]=db[\"b\"+str(i)]"
   ]
  },
  {
   "cell_type": "code",
   "execution_count": null,
   "metadata": {},
   "outputs": [],
   "source": [
    "alpha=0.000003\n",
    "T=18000*3\n",
    "pre_loss=1e9\n",
    "pre_t_accu=1e9\n",
    "while T>0:\n",
    "    predict(train_image)\n",
    "    dlt=[]\n",
    "    n=len(A)-1\n",
    "    dlt.append((A[n]-ty)*A[n]*(1-A[n])) #g dlt[1]\n",
    "    for i in range(layers-1,0,-1):\n",
    "        dlt.append((dlt[layers-i-1]@W[i].T)*A[i-1]*(1-A[i-1])) #e dlt[0]\n",
    "    dlt.reverse()\n",
    "    W[0]-=alpha*(train_image.T)@dlt[0]\n",
    "    # print(dlt[0].sum(axis=0).shape)\n",
    "    b[0]-=alpha*dlt[0].sum(axis=0)\n",
    "    for i in range(1,layers):\n",
    "        W[i]-=alpha*(A[i-1].T)@dlt[i]\n",
    "        # print(dlt[i].sum(axis=0).shape)\n",
    "        b[i]-=alpha*dlt[i].sum(axis=0)\n",
    "    T-=1\n",
    "    dlt.clear()\n",
    "    if(T%40==0):\n",
    "        # print_train_error()\n",
    "        now_loss=loss()\n",
    "        print(loss())\n",
    "        if(now_loss-pre_loss>20):\n",
    "            #break\n",
    "            alpha/=3\n",
    "            print(\"!!!!!!! alpha to \"+str(alpha))\n",
    "        elif(pre_loss-now_loss<0.1):\n",
    "            alpha=min(0.000006,1.1*alpha)\n",
    "            print(\"### alpha to \"+str(alpha))\n",
    "        pre_loss=now_loss\n",
    "        # print(b[3])\n",
    "    if(T%2000==0):\n",
    "        now_t_accu=genaralization_accu()\n",
    "        print(now_t_accu)\n",
    "        if(pre_t_accu<now_t_accu and now_t_accu>0.9):\n",
    "            break\n",
    "        pre_t_accu=now_t_accu\n",
    "        alpha=min(0.000006,1.1*alpha)\n",
    "        print(\"?? alpha to \"+str(alpha))\n",
    "    "
   ]
  },
  {
   "cell_type": "code",
   "execution_count": 13,
   "metadata": {},
   "outputs": [],
   "source": [
    "for i in range(len(dlt)):\n",
    "    print(dlt[i].shape)"
   ]
  },
  {
   "cell_type": "code",
   "execution_count": 137,
   "metadata": {},
   "outputs": [],
   "source": [
    "def save_model():\n",
    "    db=dict()\n",
    "    for i in range(layers):\n",
    "        db[\"W\"+str(i)]=W[i]\n",
    "    for i in range(layers):\n",
    "        db[\"b\"+str(i)]=b[i]\n",
    "    torch.save(db,\"model_all_sigmoid.pth\")\n",
    "save_model()"
   ]
  },
  {
   "cell_type": "code",
   "execution_count": 138,
   "metadata": {},
   "outputs": [
    {
     "name": "stdout",
     "output_type": "stream",
     "text": [
      "0:980/980=1.0000000000\n",
      "1:21/1135=0.0185022026\n",
      "2:52/1032=0.0503875969\n",
      "3:35/1010=0.0346534653\n",
      "4:982/982=1.0000000000\n",
      "5:892/892=1.0000000000\n",
      "6:14/958=0.0146137787\n",
      "7:59/1028=0.0573929961\n",
      "8:24/974=0.0246406571\n",
      "9:1009/1009=1.0000000000\n"
     ]
    },
    {
     "data": {
      "image/png": "[encoded data removed]",
      "text/plain": [
       "<Figure size 432x288 with 50 Axes>"
      ]
     },
     "metadata": {
      "needs_background": "light"
     },
     "output_type": "display_data"
    }
   ],
   "source": [
    "from matplotlib import pyplot as plt\n",
    "err=0\n",
    "sum=[0 for i in range(10)]\n",
    "ecnt=[0 for i in range(10)]\n",
    "Y=torch.argmax(predict(test_image),dim=1)\n",
    "for i in range(Y.shape[0]):\n",
    "    sum[test_label[i]]+=1\n",
    "    if(Y[i]!=test_label[i]):\n",
    "        err+=1\n",
    "        ecnt[test_label[i]]+=1\n",
    "        if err<=50:\n",
    "            plt.subplots_adjust(left=1, bottom=None, right=3, top=2, wspace=None, hspace=None)\n",
    "            plt.subplot(5, 10, err)\n",
    "            plt.axis('off')\n",
    "            img=np.array(list(test_image[i].cpu())).reshape(28,-1)\n",
    "            plt.imshow(img, cmap='gray',interpolation='nearest')\n",
    "            plt.title(\"p:%d t:%d\"% (Y[i],test_label[i]))\n",
    "for i in range(len(sum)):\n",
    "    print(\"%d:%d/%d=%.10lf\"%(i,ecnt[i],sum[i],ecnt[i]/sum[i]))"
   ]
  },
  {
   "cell_type": "code",
   "execution_count": null,
   "metadata": {},
   "outputs": [],
   "source": [
    "db=torch.load(\"../PyTorchNN/trained_model_tensor2.pt\")\n",
    "W[0]=db[\"v\"]\n",
    "W[1]=db[\"w\"]\n",
    "b[0]=-db[\"gamma\"]\n",
    "b[1]=-db[\"theta\"]"
   ]
  }
 ],
 "metadata": {
  "interpreter": {
   "hash": "1baa965d5efe3ac65b79dfc60c0d706280b1da80fedb7760faf2759126c4f253"
  },
  "kernelspec": {
   "display_name": "Python 3.8.10 64-bit",
   "language": "python",
   "name": "python3"
  },
  "language_info": {
   "codemirror_mode": {
    "name": "ipython",
    "version": 3
   },
   "file_extension": ".py",
   "mimetype": "text/x-python",
   "name": "python",
   "nbconvert_exporter": "python",
   "pygments_lexer": "ipython3",
   "version": "3.8.10"
  },
  "orig_nbformat": 4
 },
 "nbformat": 4,
 "nbformat_minor": 2
}
