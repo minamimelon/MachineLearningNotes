{
 "cells": [
  {
   "cell_type": "markdown",
   "metadata": {},
   "source": [
    "## untested,maybe uncorrected "
   ]
  },
  {
   "cell_type": "code",
   "execution_count": 1,
   "metadata": {},
   "outputs": [],
   "source": [
    "import numpy as np\n",
    "import struct,os\n",
    "from array import array as pyarray\n",
    "from numpy import append, array, int8, uint8, zeros\n",
    "import torch\n",
    "\n",
    "def load_mnist(image_file, label_file):\n",
    "    digits=np.arange(10)\n",
    "\n",
    "    fname_image = os.path.join(\"../\"+image_file)\n",
    "    fname_label = os.path.join(\"../\"+label_file)\n",
    "\n",
    "    flbl = open(fname_label, 'rb')\n",
    "    magic_nr, size = struct.unpack(\">II\", flbl.read(8))\n",
    "    lbl = pyarray(\"b\", flbl.read())\n",
    "    flbl.close()\n",
    "\n",
    "    fimg = open(fname_image, 'rb')\n",
    "    magic_nr, size, rows, cols = struct.unpack(\">IIII\", fimg.read(16))\n",
    "    img = pyarray(\"B\", fimg.read())\n",
    "    fimg.close()\n",
    "\n",
    "    ind = [ k for k in range(size) if lbl[k] in digits ]\n",
    "    N = len(ind)\n",
    "\n",
    "    images = zeros((N, rows*cols), dtype=uint8)\n",
    "    labels = zeros((N, 1), dtype=int8)\n",
    "    for i in range(len(ind)):\n",
    "        images[i] = array(img[ ind[i]*rows*cols : (ind[i]+1)*rows*cols ]).reshape((1, rows*cols))\n",
    "        labels[i] = lbl[ind[i]]\n",
    "\n",
    "    return images, labels\n",
    "\n",
    "train_image, train_label = load_mnist(\"train-images.idx3-ubyte\", \"train-labels.idx1-ubyte\")\n",
    "test_image, test_label = load_mnist(\"t10k-images.idx3-ubyte\", \"t10k-labels.idx1-ubyte\")\n"
   ]
  },
  {
   "cell_type": "code",
   "execution_count": 2,
   "metadata": {},
   "outputs": [],
   "source": [
    "device = 'cuda' if torch.cuda.is_available() else 'cpu'\n",
    "#device ='cpu'\n",
    "layers=4\n",
    "lsize=[train_image.shape[1],19*19,18*18,15*15,10]\n",
    "\n",
    "W=[(torch.rand(lsize[i],lsize[i+1],dtype=torch.float32)-0.5).to(device) for i in range(layers)]\n",
    "b=[(torch.rand(lsize[i],dtype=torch.float32)-0.5).to(device) for i in range(1,layers+1)]\n",
    "\n",
    "ty=torch.zeros([train_image.shape[0],lsize[len(lsize)-1]],dtype=torch.float32).to(device)\n",
    "for i in range(train_image.shape[0]):\n",
    "    ty[i][train_label[i]]=1.0"
   ]
  },
  {
   "cell_type": "code",
   "execution_count": 3,
   "metadata": {},
   "outputs": [
    {
     "name": "stdout",
     "output_type": "stream",
     "text": [
      "W's shape is\n",
      "torch.Size([784, 361])\n",
      "torch.Size([361, 324])\n",
      "torch.Size([324, 225])\n",
      "torch.Size([225, 10])\n",
      "b's shape is\n",
      "torch.Size([361])\n",
      "torch.Size([324])\n",
      "torch.Size([225])\n",
      "torch.Size([10])\n"
     ]
    }
   ],
   "source": [
    "print(\"W's shape is\")\n",
    "for i in range(len(W)):\n",
    "    print(W[i].shape)\n",
    "print(\"b's shape is\")\n",
    "for i in range(len(b)):\n",
    "    print(b[i].shape)"
   ]
  },
  {
   "cell_type": "code",
   "execution_count": 3,
   "metadata": {},
   "outputs": [],
   "source": [
    "# device = 'cuda' if torch.cuda.is_available() else 'cpu'\n",
    "train_image=torch.from_numpy(train_image).float().to(device)\n",
    "train_label=torch.from_numpy(train_label).int().to(device)\n",
    "test_image=torch.from_numpy(test_image).float().to(device)\n",
    "test_label=torch.from_numpy(test_label).int().to(device)"
   ]
  },
  {
   "cell_type": "code",
   "execution_count": 95,
   "metadata": {},
   "outputs": [],
   "source": [
    "m = torch.nn.Sigmoid()\n",
    "A=[]\n",
    "def predict(img):\n",
    "    A.clear()\n",
    "    A.append(m(img@W[0]+b[0]))\n",
    "    for i in range(layers-1):\n",
    "        A.append(A[i]@W[i+1]+b[i+1])\n",
    "    return A[len(A)-1]"
   ]
  },
  {
   "cell_type": "code",
   "execution_count": 6,
   "metadata": {},
   "outputs": [
    {
     "name": "stdout",
     "output_type": "stream",
     "text": [
      "A's shape is\n"
     ]
    }
   ],
   "source": [
    "print(\"A's shape is\")\n",
    "for i in range(len(A)):\n",
    "    print(A[i].shape)"
   ]
  },
  {
   "cell_type": "code",
   "execution_count": null,
   "metadata": {},
   "outputs": [],
   "source": [
    "def print_train_error():\n",
    "    err=0\n",
    "    Y=torch.argmax(predict(train_image),dim=1)\n",
    "    for i in range(Y.shape[0]):\n",
    "        if(Y[i]!=train_label[i]):\n",
    "            err+=1\n",
    "    print(\"%.10lf\"%(1-err/train_image.shape[0]))\n",
    "print_train_error()"
   ]
  },
  {
   "cell_type": "code",
   "execution_count": null,
   "metadata": {},
   "outputs": [],
   "source": [
    "def print_genaralization_error():\n",
    "    err=0\n",
    "    Y=torch.argmax(predict(test_image),dim=1)\n",
    "    for i in range(Y.shape[0]):\n",
    "        if(Y[i]!=test_label[i]):\n",
    "            err+=1\n",
    "    print(\"%.10lf\"%(1-err/test_image.shape[0]))\n",
    "print_genaralization_error()"
   ]
  },
  {
   "cell_type": "code",
   "execution_count": 96,
   "metadata": {},
   "outputs": [
    {
     "name": "stdout",
     "output_type": "stream",
     "text": [
      "282136960.0\n"
     ]
    }
   ],
   "source": [
    "def loss():\n",
    "    tmp=(predict(train_image)-ty)\n",
    "    # print(tmp.shape)\n",
    "    print((tmp*tmp).sum().item())\n",
    "loss()"
   ]
  },
  {
   "cell_type": "code",
   "execution_count": 14,
   "metadata": {},
   "outputs": [],
   "source": [
    "torch.set_printoptions(precision=10)"
   ]
  },
  {
   "cell_type": "code",
   "execution_count": 93,
   "metadata": {},
   "outputs": [],
   "source": [
    "db=torch.load(\"model.pth\")\n",
    "for i in range(layers):\n",
    "    W[i]=db[\"W\"+str(i)]\n",
    "for i in range(layers):\n",
    "    b[i]=db[\"b\"+str(i)]"
   ]
  },
  {
   "cell_type": "code",
   "execution_count": null,
   "metadata": {},
   "outputs": [],
   "source": [
    "alpha=0.000000000001/train_image.shape[0]\n",
    "T=20\n",
    "while T>0:\n",
    "    predict(train_image)\n",
    "    dlt=[]\n",
    "    n=len(A)-1\n",
    "    dlt.append(-(ty-A[n])*A[n]*(1-A[n])) #? \n",
    "    for i in range(layers-1,0,-1):\n",
    "        dlt.append((dlt[layers-i-1]@W[i].T)*A[i-1]*(1-A[i-1]))\n",
    "    dlt.reverse()\n",
    "    W[0]-=alpha*(train_image.T)@dlt[0]\n",
    "    # print(dlt[0].sum(axis=0).shape)\n",
    "    b[0]-=alpha*dlt[0].sum(axis=0)\n",
    "    for i in range(1,layers):\n",
    "        W[i]-=alpha*(A[i-1].T)@dlt[i]\n",
    "        # print(dlt[i].sum(axis=0).shape)\n",
    "        b[i]-=alpha*dlt[i].sum(axis=0)\n",
    "    T-=1\n",
    "    dlt.clear()\n",
    "    if(T%1==0):\n",
    "        # print_train_error()\n",
    "        alpha*=1\n",
    "        loss()\n",
    "        print(b[3])\n",
    "    "
   ]
  },
  {
   "cell_type": "code",
   "execution_count": 13,
   "metadata": {},
   "outputs": [],
   "source": [
    "for i in range(len(dlt)):\n",
    "    print(dlt[i].shape)"
   ]
  },
  {
   "cell_type": "code",
   "execution_count": 90,
   "metadata": {},
   "outputs": [],
   "source": [
    "db={\"W0\":W[0],\"W1\":W[1],\"W2\":W[2],\"W3\":W[3],\"b0\":b[0],\"b1\":b[1],\"b2\":b[2],\"b3\":b[3]}\n",
    "torch.save(db,\"model.pth\")"
   ]
  },
  {
   "cell_type": "code",
   "execution_count": null,
   "metadata": {},
   "outputs": [],
   "source": [
    "from matplotlib import pyplot as plt\n",
    "err=0\n",
    "sum=[0 for i in range(10)]\n",
    "ecnt=[0 for i in range(10)]\n",
    "Y=torch.argmax(predict(test_image),dim=1)\n",
    "for i in range(Y.shape[0]):\n",
    "    sum[test_label[i]]+=1\n",
    "    if(Y[i]!=test_label[i]):\n",
    "        err+=1\n",
    "        ecnt[test_label[i]]+=1\n",
    "        if err<=50:\n",
    "            plt.subplots_adjust(left=1, bottom=None, right=3, top=2, wspace=None, hspace=None)\n",
    "            plt.subplot(5, 10, err)\n",
    "            plt.axis('off')\n",
    "            img=np.array(list(test_image[i].cpu())).reshape(28,-1)\n",
    "            plt.imshow(img, cmap='gray',interpolation='nearest')\n",
    "            plt.title(\"p:%d t:%d\"% (Y[i],test_label[i]))\n",
    "for i in range(len(sum)):\n",
    "    print(\"%d:%d/%d=%.10lf\"%(i,ecnt[i],sum[i],ecnt[i]/sum[i]))"
   ]
  }
 ],
 "metadata": {
  "interpreter": {
   "hash": "1baa965d5efe3ac65b79dfc60c0d706280b1da80fedb7760faf2759126c4f253"
  },
  "kernelspec": {
   "display_name": "Python 3.8.10 64-bit",
   "language": "python",
   "name": "python3"
  },
  "language_info": {
   "codemirror_mode": {
    "name": "ipython",
    "version": 3
   },
   "file_extension": ".py",
   "mimetype": "text/x-python",
   "name": "python",
   "nbconvert_exporter": "python",
   "pygments_lexer": "ipython3",
   "version": "3.8.10"
  },
  "orig_nbformat": 4
 },
 "nbformat": 4,
 "nbformat_minor": 2
}
