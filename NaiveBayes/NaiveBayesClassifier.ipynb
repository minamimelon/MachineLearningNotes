{
 "cells": [
  {
   "cell_type": "code",
   "execution_count": 1,
   "metadata": {},
   "outputs": [],
   "source": [
    "import numpy as np\n",
    "import matplotlib.pyplot as plt\n",
    "import struct,os\n",
    "from array import array as pyarray\n",
    "from numpy import append, array, int8, uint8, zeros\n",
    "\n",
    "def load_mnist(image_file, label_file):\n",
    "    digits=np.arange(10)\n",
    "\n",
    "    fname_image = os.path.join(image_file)\n",
    "    fname_label = os.path.join(label_file)\n",
    "\n",
    "    flbl = open(fname_label, 'rb')\n",
    "    magic_nr, size = struct.unpack(\">II\", flbl.read(8))\n",
    "    lbl = pyarray(\"b\", flbl.read())\n",
    "    flbl.close()\n",
    "\n",
    "    fimg = open(fname_image, 'rb')\n",
    "    magic_nr, size, rows, cols = struct.unpack(\">IIII\", fimg.read(16))\n",
    "    img = pyarray(\"B\", fimg.read())\n",
    "    fimg.close()\n",
    "\n",
    "    ind = [ k for k in range(size) if lbl[k] in digits ]\n",
    "    N = len(ind)\n",
    "\n",
    "    images = zeros((N, rows*cols), dtype=uint8)\n",
    "    labels = zeros((N, 1), dtype=int8)\n",
    "    for i in range(len(ind)):\n",
    "        images[i] = array(img[ ind[i]*rows*cols : (ind[i]+1)*rows*cols ]).reshape((1, rows*cols))\n",
    "        labels[i] = lbl[ind[i]]\n",
    "\n",
    "    return images, labels\n",
    "\n",
    "\n",
    "train_image, train_label = load_mnist(\"train-images.idx3-ubyte\", \"train-labels.idx1-ubyte\")\n",
    "test_image, test_label = load_mnist(\"t10k-images.idx3-ubyte\", \"t10k-labels.idx1-ubyte\")"
   ]
  },
  {
   "cell_type": "markdown",
   "metadata": {},
   "source": [
    "$$\n",
    "h(x)=\\argmax\\limits_{c \\in y}P(c)\\prod\\limits_{i=1}^{d}P(x_i|c)\n",
    "$$\n",
    "$$\n",
    "P(c)=\\frac{|D_c|}{|D|}\n",
    "$$\n",
    "$$\n",
    "P(x_i|c)=\\frac{|D_{c,x_i}|}{|D_c|}\n",
    "$$"
   ]
  },
  {
   "cell_type": "markdown",
   "metadata": {},
   "source": [
    "In code:\n",
    "\n",
    "len(D[c]) for $|D_c|$ \n",
    "\n",
    "pc[c] for $P(c)$\n",
    "\n",
    "\n"
   ]
  },
  {
   "cell_type": "code",
   "execution_count": 2,
   "metadata": {},
   "outputs": [
    {
     "name": "stdout",
     "output_type": "stream",
     "text": [
      "[0.09871666666666666, 0.11236666666666667, 0.0993, 0.10218333333333333, 0.09736666666666667, 0.09035, 0.09863333333333334, 0.10441666666666667, 0.09751666666666667, 0.09915]\n"
     ]
    }
   ],
   "source": [
    "label_type=10\n",
    "D=[[] for _ in range(label_type)]\n",
    "for i in range(train_image.shape[0]):\n",
    "    D[int(train_label[i])].append(train_image[i])\n",
    "pc=[len(D[i])/train_label.shape[0] for i in range(label_type)]\n",
    "print(pc)"
   ]
  },
  {
   "cell_type": "markdown",
   "metadata": {},
   "source": [
    "$D_{c,x_i}$ 表示 $D_c$ 中在第i个属性取值为$x_i$的样本组成的集合\n",
    "\n",
    "xc[c][i][x[i]] for $|D_{c,x_i}|$\n",
    "\n",
    "xc.shape (10,28*28,256)"
   ]
  },
  {
   "cell_type": "code",
   "execution_count": 3,
   "metadata": {},
   "outputs": [],
   "source": [
    "xc=[[[0 for _ in range(256)] for _ in range(train_image.shape[1])] for _ in range(label_type)]"
   ]
  },
  {
   "cell_type": "code",
   "execution_count": 4,
   "metadata": {},
   "outputs": [],
   "source": [
    "for c in range(label_type):\n",
    "    for x in D[c]:\n",
    "        for i in range(x.shape[0]):\n",
    "            xc[c][i][x[i]]+=1 \n"
   ]
  },
  {
   "cell_type": "markdown",
   "metadata": {},
   "source": [
    "Laplacian correction\n",
    "\n",
    "对于未出现的属性\n",
    "\n",
    "$$\n",
    "\\hat{P}(c)=\\frac{|D_c|+1}{|D|+N}\n",
    "$$\n",
    "\n",
    "$$\n",
    "\\hat{P}(x_i|c)=\\frac{|D_{c,x_i}|+1}{|D_c|+N_i}\n",
    "$$\n",
    "\n",
    "其中$N$为训练集D中可能出现的类别,$N_i$表示第$i$个属性可能的取值数。\n",
    "\n",
    "（未出现时，$|D_c|$,$|D_{c,x_i}|$显然为0）"
   ]
  },
  {
   "cell_type": "code",
   "execution_count": 12,
   "metadata": {},
   "outputs": [],
   "source": [
    "pred=[]\n",
    "for i in range(test_image.shape[0]):\n",
    "    rt=np.array([np.log(pc[j]) for j in range(10)])\n",
    "    x=test_image[i]\n",
    "    for j in range(x.shape[0]):\n",
    "        for c in range(label_type):\n",
    "            rt[c]+=np.log(xc[c][j][x[j]]/len(D[c]) if xc[c][j][x[j]]>0 else (xc[c][j][x[j]]+1)/(len(D[c])+256))\n",
    "    pred.append(np.argmax(rt))\n",
    "    # print(pred[len(pred)-1],test_label[i])"
   ]
  },
  {
   "cell_type": "code",
   "execution_count": 13,
   "metadata": {},
   "outputs": [
    {
     "name": "stdout",
     "output_type": "stream",
     "text": [
      "accuracy is\n",
      "0.8401000000000001\n"
     ]
    }
   ],
   "source": [
    "err=0\n",
    "for i in range(test_image.shape[0]):\n",
    "    if(pred[i]!=test_label[i]):\n",
    "        err+=1\n",
    "print(\"accuracy is\")\n",
    "print(1-err/test_label.shape[0])"
   ]
  }
 ],
 "metadata": {
  "interpreter": {
   "hash": "1baa965d5efe3ac65b79dfc60c0d706280b1da80fedb7760faf2759126c4f253"
  },
  "kernelspec": {
   "display_name": "Python 3.8.10 64-bit",
   "language": "python",
   "name": "python3"
  },
  "language_info": {
   "codemirror_mode": {
    "name": "ipython",
    "version": 3
   },
   "file_extension": ".py",
   "mimetype": "text/x-python",
   "name": "python",
   "nbconvert_exporter": "python",
   "pygments_lexer": "ipython3",
   "version": "3.8.10"
  },
  "orig_nbformat": 4
 },
 "nbformat": 4,
 "nbformat_minor": 2
}
