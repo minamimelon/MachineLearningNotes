{
 "cells": [
  {
   "cell_type": "code",
   "execution_count": 1,
   "metadata": {},
   "outputs": [
    {
     "name": "stdout",
     "output_type": "stream",
     "text": [
      "(2700, 94)\n",
      "(2700,)\n"
     ]
    }
   ],
   "source": [
    "from csv import reader\n",
    "import numpy as np\n",
    "\n",
    "train_file=open(\"covid.train.csv\")\n",
    "rdr=reader(train_file)\n",
    "a=[]\n",
    "tar=[]\n",
    "fst=True\n",
    "for row in rdr:\n",
    "    if fst:\n",
    "        fst=False\n",
    "    else:\n",
    "        a.append(list(map(float,[1]+row[1:-1])))\n",
    "        tar.append(float(row[-1]))\n",
    "train_file.close()\n",
    "x=np.array(a,dtype=np.float32)\n",
    "y=np.array(tar,dtype=np.float32)\n",
    "print(x.shape)\n",
    "print(y.shape)"
   ]
  },
  {
   "cell_type": "code",
   "execution_count": 2,
   "metadata": {},
   "outputs": [],
   "source": [
    "def normalize(x):\n",
    "    nx=np.empty([x.shape[0],x.shape[1]],dtype=float)\n",
    "    for j in range(1,x.shape[1]):\n",
    "        now_mean=x[:,j].mean()\n",
    "        now_dlt=x[:,j].max()-x[:,j].min()\n",
    "        for i in range(x.shape[0]):\n",
    "            nx[i][j]=(x[i][j]-now_mean)/now_dlt\n",
    "    for i in range(x.shape[0]):\n",
    "        nx[i][0]=1\n",
    "    return nx\n",
    "x=normalize(x)"
   ]
  },
  {
   "cell_type": "code",
   "execution_count": 3,
   "metadata": {},
   "outputs": [],
   "source": [
    "import torch\n",
    "dev='cuda' if torch.cuda.is_available() else 'cpu'\n",
    "x=torch.from_numpy(x).to(dev)\n",
    "y=torch.from_numpy(y).to(dev)\n",
    "x=x.float()\n",
    "y=y.float()"
   ]
  },
  {
   "cell_type": "code",
   "execution_count": 4,
   "metadata": {},
   "outputs": [
    {
     "name": "stdout",
     "output_type": "stream",
     "text": [
      "torch.Size([94])\n",
      "tensor([0.], device='cuda:0')\n"
     ]
    },
    {
     "data": {
      "text/plain": [
       "tensor([0.], device='cuda:0', requires_grad=True)"
      ]
     },
     "execution_count": 4,
     "metadata": {},
     "output_type": "execute_result"
    }
   ],
   "source": [
    "theta=torch.rand(x.shape[1],dtype=torch.float32).to(dev)\n",
    "b=torch.zeros(1,dtype=torch.float32).to(dev)\n",
    "print(theta.shape)\n",
    "print(b)\n",
    "theta.requires_grad_(requires_grad=True)\n",
    "b.requires_grad_(requires_grad=True)"
   ]
  },
  {
   "cell_type": "code",
   "execution_count": 15,
   "metadata": {},
   "outputs": [
    {
     "data": {
      "text/plain": [
       "tensor(0.4102, device='cuda:0', grad_fn=<DivBackward0>)"
      ]
     },
     "execution_count": 15,
     "metadata": {},
     "output_type": "execute_result"
    }
   ],
   "source": [
    "def loss(theta):\n",
    "    return ((theta@x.T+b-y)**2).sum()/(2*y.shape[0])\n",
    "loss(theta)"
   ]
  },
  {
   "cell_type": "code",
   "execution_count": 14,
   "metadata": {},
   "outputs": [],
   "source": [
    "T=10000\n",
    "alpha=0.0001\n",
    "while T>0:\n",
    "    l=loss(theta)\n",
    "    l.backward()\n",
    "    theta.data-=alpha*theta.grad\n",
    "    b.data-=alpha*b.grad\n",
    "    theta.grad.data.zero_()\n",
    "    b.grad.data.zero_()\n",
    "    #print(l)\n",
    "    T-=1\n",
    "    if l<0.4:\n",
    "        break"
   ]
  },
  {
   "cell_type": "code",
   "execution_count": 16,
   "metadata": {},
   "outputs": [
    {
     "name": "stdout",
     "output_type": "stream",
     "text": [
      "tensor([8.1562], device='cuda:0', requires_grad=True)\n"
     ]
    }
   ],
   "source": [
    "print(b)\n"
   ]
  },
  {
   "cell_type": "code",
   "execution_count": 37,
   "metadata": {},
   "outputs": [
    {
     "name": "stdout",
     "output_type": "stream",
     "text": [
      "torch.Size([893, 94])\n"
     ]
    }
   ],
   "source": [
    "test_file=open(\"covid.test.csv\")\n",
    "rdrt=reader(test_file)\n",
    "bx=[]\n",
    "fst=True\n",
    "for row in rdrt:\n",
    "    if fst:\n",
    "        fst=False\n",
    "    else:\n",
    "        bx.append(list(map(float,[1]+row[1:])))\n",
    "test_file.close()\n",
    "tx=np.array(bx,dtype=np.float32)\n",
    "tx=normalize(tx)\n",
    "tx=torch.from_numpy(tx).to(dev)\n",
    "tx=tx.float()\n",
    "print(tx.shape)"
   ]
  },
  {
   "cell_type": "code",
   "execution_count": 41,
   "metadata": {},
   "outputs": [],
   "source": [
    "from csv import writer\n",
    "outfile=open(\"result3.csv\",\"w\")\n",
    "wtr=writer(outfile,lineterminator='\\n')\n",
    "header=[\"id\",\"tested_positive\"]\n",
    "wtr.writerow(header)\n",
    "for i in range(tx.shape[0]):\n",
    "    wtr.writerow([i,(theta@tx[i]+b).item()])\n",
    "outfile.close()"
   ]
  }
 ],
 "metadata": {
  "interpreter": {
   "hash": "1baa965d5efe3ac65b79dfc60c0d706280b1da80fedb7760faf2759126c4f253"
  },
  "kernelspec": {
   "display_name": "Python 3.8.10 64-bit",
   "language": "python",
   "name": "python3"
  },
  "language_info": {
   "codemirror_mode": {
    "name": "ipython",
    "version": 3
   },
   "file_extension": ".py",
   "mimetype": "text/x-python",
   "name": "python",
   "nbconvert_exporter": "python",
   "pygments_lexer": "ipython3",
   "version": "3.8.10"
  },
  "orig_nbformat": 4
 },
 "nbformat": 4,
 "nbformat_minor": 2
}
