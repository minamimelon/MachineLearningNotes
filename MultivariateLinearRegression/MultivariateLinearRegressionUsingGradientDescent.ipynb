{
 "cells": [
  {
   "cell_type": "markdown",
   "metadata": {},
   "source": [
    "# 多元线性回归(multivariate linear regression)"
   ]
  },
  {
   "cell_type": "code",
   "execution_count": 1,
   "metadata": {},
   "outputs": [
    {
     "name": "stdout",
     "output_type": "stream",
     "text": [
      "(2700, 94)\n",
      "(2700,)\n"
     ]
    }
   ],
   "source": [
    "from csv import reader\n",
    "import numpy as np\n",
    "\n",
    "train_file=open(\"covid.train.csv\")\n",
    "rdr=reader(train_file)\n",
    "a=[]\n",
    "tar=[]\n",
    "fst=True\n",
    "for row in rdr:\n",
    "    if fst:\n",
    "        fst=False\n",
    "    else:\n",
    "        a.append(list(map(float,[1]+row[1:-1])))\n",
    "        tar.append(float(row[-1]))\n",
    "train_file.close()\n",
    "x=np.array(a)\n",
    "y=np.array(tar)\n",
    "print(x.shape)\n",
    "print(y.shape)"
   ]
  },
  {
   "cell_type": "code",
   "execution_count": 2,
   "metadata": {},
   "outputs": [
    {
     "name": "stdout",
     "output_type": "stream",
     "text": [
      "[[ 1.          0.97518519 -0.02481481 ... -0.16979948 -0.36785771\n",
      "  -0.03808142]\n",
      " [ 1.          0.97518519 -0.02481481 ... -0.18283663 -0.36127691\n",
      "  -0.07514595]\n",
      " [ 1.          0.97518519 -0.02481481 ... -0.19845081 -0.379884\n",
      "  -0.06303479]\n",
      " ...\n",
      " [ 1.         -0.02481481 -0.02481481 ... -0.03613014  0.0982804\n",
      "  -0.23016801]\n",
      " [ 1.         -0.02481481 -0.02481481 ... -0.00725558  0.10044959\n",
      "  -0.23591554]\n",
      " [ 1.         -0.02481481 -0.02481481 ...  0.0035114   0.11703896\n",
      "  -0.24149639]]\n"
     ]
    }
   ],
   "source": [
    "def normalize(x):\n",
    "    nx=np.empty([x.shape[0],x.shape[1]],dtype=float)\n",
    "    for j in range(1,x.shape[1]):\n",
    "        now_mean=x[:,j].mean()\n",
    "        now_dlt=x[:,j].max()-x[:,j].min()\n",
    "        for i in range(x.shape[0]):\n",
    "            nx[i][j]=(x[i][j]-now_mean)/now_dlt\n",
    "    for i in range(x.shape[0]):\n",
    "        nx[i][0]=1\n",
    "    return nx\n",
    "x=normalize(x)\n",
    "print(x)"
   ]
  },
  {
   "cell_type": "markdown",
   "metadata": {},
   "source": [
    "$$\n",
    "J(\\theta)=\\frac{1}{2m}\\sum_{i=1}^{m}(h_\\theta(x^{(i)})-y^{(i)})^2\n",
    "$$\n",
    "\n",
    "$$\n",
    "h_\\theta(x)=\\theta^Tx\n",
    "$$"
   ]
  },
  {
   "cell_type": "code",
   "execution_count": 3,
   "metadata": {},
   "outputs": [
    {
     "data": {
      "text/plain": [
       "164.0100033239165"
      ]
     },
     "execution_count": 3,
     "metadata": {},
     "output_type": "execute_result"
    }
   ],
   "source": [
    "def J(theta):\n",
    "    m=x.shape[0]\n",
    "    res=0\n",
    "    for i in range(m):\n",
    "        tmp=theta.dot(x[i])-y[i]\n",
    "        res+=tmp*tmp\n",
    "    return res/(2*m)\n",
    "n=x.shape[1]\n",
    "theta=np.empty([n],dtype=float)\n",
    "J(theta)"
   ]
  },
  {
   "cell_type": "markdown",
   "metadata": {},
   "source": [
    "Gradient Descent Algorithm\n",
    "\n",
    "Repeat{\n",
    "\n",
    "${\\theta}_j={\\theta}_j-\\alpha\\frac{\\partial }{\\partial \\theta_j}J(\\theta)$\n",
    "\n",
    "(simultaneously uptade $\\theta_j$ for $j = 0,\\dots,n$)\n",
    "\n",
    "}\n",
    "\n",
    "For now,\n",
    "$$\n",
    "\\frac{\\partial }{\\partial \\theta_j}J(\\theta)=\\frac{1}{m}\\sum_{i=1}^{m}(h_\\theta(x^{(i)})-y^{(i)})x^{(i)}_j\n",
    "$$\n",
    "\n"
   ]
  },
  {
   "cell_type": "code",
   "execution_count": 4,
   "metadata": {},
   "outputs": [],
   "source": [
    "from matplotlib import pyplot as plt\n",
    "def GradientDescent(theta,x,T=1000000,alpha=0.06,eps=1e-9):\n",
    "    n=x.shape[1]\n",
    "    pre_error=J(theta)\n",
    "    nxt=np.empty([n],dtype=float)\n",
    "    m=x.shape[0]\n",
    "    err=[]\n",
    "    while T>0:\n",
    "        # for j in range(n):\n",
    "        #     sum=0.0\n",
    "        #     for i in range(m):\n",
    "        #         sum+=(theta.dot(x[i])-y[i])*x[i][j]\n",
    "        #     # print(sum)\n",
    "        #     nxt[j]=theta[j]-alpha*sum/m\n",
    "        nxt=theta-((x.dot(theta)-y).dot(x)*(alpha/m))\n",
    "        now_error=J(nxt)\n",
    "        # print(theta)\n",
    "        # print(nxt)\n",
    "        err.append(now_error)\n",
    "        # print(now_error,pre_error-now_error,sep=\" \")\n",
    "        if(abs(pre_error-now_error)<eps):\n",
    "            break\n",
    "        pre_error=now_error\n",
    "        theta=nxt\n",
    "        T-=1\n",
    "    plt.plot(np.arange(1,len(err)+1),err)\n",
    "    return theta"
   ]
  },
  {
   "cell_type": "code",
   "execution_count": 5,
   "metadata": {},
   "outputs": [
    {
     "name": "stdout",
     "output_type": "stream",
     "text": [
      "0.4110994620838109\n"
     ]
    },
    {
     "data": {
      "image/png": "[encoded data removed]",
      "text/plain": [
       "<Figure size 432x288 with 1 Axes>"
      ]
     },
     "metadata": {
      "needs_background": "light"
     },
     "output_type": "display_data"
    }
   ],
   "source": [
    "theta=GradientDescent(theta,x)\n",
    "print(J(theta))"
   ]
  },
  {
   "cell_type": "code",
   "execution_count": 6,
   "metadata": {},
   "outputs": [],
   "source": [
    "file=open(\"theta.txt\",\"w\")\n",
    "file.write(str(theta))\n",
    "file.close()"
   ]
  },
  {
   "cell_type": "code",
   "execution_count": 7,
   "metadata": {},
   "outputs": [
    {
     "name": "stdout",
     "output_type": "stream",
     "text": [
      "(893, 94)\n"
     ]
    }
   ],
   "source": [
    "test_file=open(\"covid.test.csv\")\n",
    "rdrt=reader(test_file)\n",
    "b=[]\n",
    "fst=True\n",
    "for row in rdrt:\n",
    "    if fst:\n",
    "        fst=False\n",
    "    else:\n",
    "        b.append(list(map(float,[1]+row[1:])))\n",
    "test_file.close()\n",
    "tx=np.array(b)\n",
    "tx=normalize(tx)\n",
    "print(tx.shape)"
   ]
  },
  {
   "cell_type": "code",
   "execution_count": 8,
   "metadata": {},
   "outputs": [],
   "source": [
    "from csv import writer\n",
    "outfile=open(\"result2.csv\",\"w\")\n",
    "wtr=writer(outfile,lineterminator='\\n')\n",
    "header=[\"id\",\"tested_positive\"]\n",
    "wtr.writerow(header)\n",
    "for i in range(tx.shape[0]):\n",
    "    wtr.writerow([i,theta.dot(tx[i])])\n",
    "outfile.close()"
   ]
  }
 ],
 "metadata": {
  "interpreter": {
   "hash": "2be5faf79681da6f2a61fdfdd5405d65d042280f7fba6178067603e3a2925119"
  },
  "kernelspec": {
   "display_name": "Python 3.10.2 64-bit",
   "language": "python",
   "name": "python3"
  },
  "language_info": {
   "codemirror_mode": {
    "name": "ipython",
    "version": 3
   },
   "file_extension": ".py",
   "mimetype": "text/x-python",
   "name": "python",
   "nbconvert_exporter": "python",
   "pygments_lexer": "ipython3",
   "version": "3.10.2"
  },
  "orig_nbformat": 4
 },
 "nbformat": 4,
 "nbformat_minor": 2
}
