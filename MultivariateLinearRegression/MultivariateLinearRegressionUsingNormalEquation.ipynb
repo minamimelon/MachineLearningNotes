{
 "cells": [
  {
   "cell_type": "code",
   "execution_count": 34,
   "metadata": {},
   "outputs": [],
   "source": [
    "from csv import reader\n",
    "import numpy as np\n",
    "\n",
    "train_file=open(\"covid.train.csv\")\n",
    "rdr=reader(train_file)\n",
    "a=[]\n",
    "tar=[]\n",
    "fst=True\n",
    "for row in rdr:\n",
    "    if fst:\n",
    "        fst=False\n",
    "    else:\n",
    "        a.append(list(map(float,[1]+row[1:-1])))\n",
    "        tar.append(float(row[-1]))"
   ]
  },
  {
   "cell_type": "code",
   "execution_count": 41,
   "metadata": {},
   "outputs": [
    {
     "name": "stdout",
     "output_type": "stream",
     "text": [
      "(94,)\n"
     ]
    }
   ],
   "source": [
    "x=np.array(a)\n",
    "y=np.array(tar)\n",
    "theta=np.linalg.pinv(x.T.dot(x)).dot(x.T).dot(y)\n",
    "# print(theta)\n",
    "print(theta.shape)"
   ]
  },
  {
   "cell_type": "code",
   "execution_count": null,
   "metadata": {},
   "outputs": [],
   "source": [
    "for i in range(y.shape[0]):\n",
    "    print(y[i],theta.dot(x[i]))"
   ]
  },
  {
   "cell_type": "code",
   "execution_count": 55,
   "metadata": {},
   "outputs": [],
   "source": [
    "file=open(\"3.txt\",\"w\")\n",
    "file.write(str(theta))\n",
    "file.close()"
   ]
  },
  {
   "cell_type": "code",
   "execution_count": 57,
   "metadata": {},
   "outputs": [
    {
     "data": {
      "text/plain": [
       "0.41006181011388365"
      ]
     },
     "execution_count": 57,
     "metadata": {},
     "output_type": "execute_result"
    }
   ],
   "source": [
    "def J(theta):\n",
    "    m=x.shape[0]\n",
    "    res=0\n",
    "    for i in range(m):\n",
    "        tmp=theta.dot(x[i])-y[i]\n",
    "        res+=tmp*tmp\n",
    "    return res/(2*m)\n",
    "J(theta)"
   ]
  },
  {
   "cell_type": "code",
   "execution_count": 40,
   "metadata": {},
   "outputs": [
    {
     "data": {
      "text/plain": [
       "(893, 94)"
      ]
     },
     "execution_count": 40,
     "metadata": {},
     "output_type": "execute_result"
    }
   ],
   "source": [
    "test_file=open(\"covid.test.csv\")\n",
    "rdrt=reader(test_file)\n",
    "b=[]\n",
    "fst=True\n",
    "for row in rdrt:\n",
    "    if fst:\n",
    "        fst=False\n",
    "    else:\n",
    "        b.append(list(map(float,[1]+row[1:])))\n",
    "tx=np.array(b)\n",
    "tx.shape"
   ]
  },
  {
   "cell_type": "code",
   "execution_count": 54,
   "metadata": {},
   "outputs": [],
   "source": [
    "from csv import writer\n",
    "outfile=open(\"result.csv\",\"w\")\n",
    "wtr=writer(outfile,lineterminator='\\n')\n",
    "header=[\"id\",\"tested_positive\"]\n",
    "wtr.writerow(header)\n",
    "for i in range(tx.shape[0]):\n",
    "    wtr.writerow([i,theta.dot(tx[i])])\n",
    "outfile.close()\n"
   ]
  }
 ],
 "metadata": {
  "interpreter": {
   "hash": "2be5faf79681da6f2a61fdfdd5405d65d042280f7fba6178067603e3a2925119"
  },
  "kernelspec": {
   "display_name": "Python 3.10.2 64-bit",
   "language": "python",
   "name": "python3"
  },
  "language_info": {
   "codemirror_mode": {
    "name": "ipython",
    "version": 3
   },
   "file_extension": ".py",
   "mimetype": "text/x-python",
   "name": "python",
   "nbconvert_exporter": "python",
   "pygments_lexer": "ipython3",
   "version": "3.10.2"
  },
  "orig_nbformat": 4
 },
 "nbformat": 4,
 "nbformat_minor": 2
}
