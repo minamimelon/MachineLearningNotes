{
 "cells": [
  {
   "cell_type": "code",
   "execution_count": 18,
   "metadata": {},
   "outputs": [],
   "source": [
    "import numpy as np\n",
    "import matplotlib.pyplot as plt\n",
    "import struct,os\n",
    "from array import array as pyarray\n",
    "from numpy import append, array, int8, uint8, zeros\n",
    "\n",
    "def load_mnist(image_file, label_file):\n",
    "    digits=np.arange(10)\n",
    "\n",
    "    fname_image = os.path.join(\"../\"+image_file)\n",
    "    fname_label = os.path.join(\"../\"+label_file)\n",
    "\n",
    "    flbl = open(fname_label, 'rb')\n",
    "    magic_nr, size = struct.unpack(\">II\", flbl.read(8))\n",
    "    lbl = pyarray(\"b\", flbl.read())\n",
    "    flbl.close()\n",
    "\n",
    "    fimg = open(fname_image, 'rb')\n",
    "    magic_nr, size, rows, cols = struct.unpack(\">IIII\", fimg.read(16))\n",
    "    img = pyarray(\"B\", fimg.read())\n",
    "    fimg.close()\n",
    "\n",
    "    ind = [ k for k in range(size) if lbl[k] in digits ]\n",
    "    N = len(ind)\n",
    "\n",
    "    images = zeros((N, rows*cols), dtype=uint8)\n",
    "    labels = zeros((N, 1), dtype=int8)\n",
    "    for i in range(len(ind)):\n",
    "        images[i] = array(img[ ind[i]*rows*cols : (ind[i]+1)*rows*cols ]).reshape((1, rows*cols))\n",
    "        labels[i] = lbl[ind[i]]\n",
    "\n",
    "    return images, labels\n",
    "\n",
    "\n",
    "train_image, train_label = load_mnist(\"train-images.idx3-ubyte\", \"train-labels.idx1-ubyte\")\n",
    "test_image, test_label = load_mnist(\"t10k-images.idx3-ubyte\", \"t10k-labels.idx1-ubyte\")"
   ]
  },
  {
   "cell_type": "markdown",
   "metadata": {},
   "source": [
    "# naive Bayes"
   ]
  },
  {
   "cell_type": "code",
   "execution_count": 3,
   "metadata": {},
   "outputs": [],
   "source": [
    "\n",
    "nbres=[]\n",
    "label_type=10\n",
    "D=[[] for _ in range(label_type)]\n",
    "for i in range(train_image.shape[0]):\n",
    "    D[int(train_label[i])].append(train_image[i])\n",
    "pc=[len(D[i])/train_label.shape[0] for i in range(label_type)]\n",
    "xc=[[[0 for _ in range(256)] for _ in range(train_image.shape[1])] for _ in range(label_type)]\n",
    "for c in range(label_type):\n",
    "    for x in D[c]:\n",
    "        for i in range(x.shape[0]):\n",
    "            xc[c][i][x[i]]+=1\n",
    "for i in range(test_image.shape[0]):\n",
    "    rt=np.array([np.log(pc[j]) for j in range(10)])\n",
    "    x=test_image[i]\n",
    "    for j in range(x.shape[0]):\n",
    "        for c in range(label_type):\n",
    "            rt[c]+=np.log(xc[c][j][x[j]]/len(D[c]) if xc[c][j][x[j]]>0 else (xc[c][j][x[j]]+1)/(len(D[c])+256))\n",
    "    nbres.append(rt)"
   ]
  },
  {
   "cell_type": "code",
   "execution_count": 16,
   "metadata": {},
   "outputs": [
    {
     "name": "stdout",
     "output_type": "stream",
     "text": [
      "10000\n"
     ]
    }
   ],
   "source": [
    "print(len(nbres))"
   ]
  },
  {
   "cell_type": "markdown",
   "metadata": {},
   "source": [
    "# Neural Networks (with hidden layer size 27*27)"
   ]
  },
  {
   "cell_type": "code",
   "execution_count": 17,
   "metadata": {},
   "outputs": [],
   "source": [
    "import torch\n",
    "db=torch.load(\"../PyTorchNN/trained_model_tensor2.pt\")"
   ]
  },
  {
   "cell_type": "code",
   "execution_count": 12,
   "metadata": {},
   "outputs": [],
   "source": [
    "v=db[\"v\"].to('cpu')\n",
    "gamma=db[\"gamma\"].to('cpu')\n",
    "w=db[\"w\"].to('cpu')\n",
    "theta=db[\"theta\"].to('cpu')\n",
    "m = torch.nn.Sigmoid()\n",
    "def predict(img):\n",
    "    return m((m((img @ v)-gamma) @ w)-theta)"
   ]
  },
  {
   "cell_type": "code",
   "execution_count": 15,
   "metadata": {},
   "outputs": [
    {
     "data": {
      "text/plain": [
       "torch.Size([10000, 10])"
      ]
     },
     "execution_count": 15,
     "metadata": {},
     "output_type": "execute_result"
    }
   ],
   "source": [
    "Y1=predict(torch.from_numpy(test_image).float())\n",
    "Y1.shape"
   ]
  },
  {
   "cell_type": "markdown",
   "metadata": {},
   "source": [
    "# Neural Networks (with hidden layer size 400)"
   ]
  },
  {
   "cell_type": "code",
   "execution_count": 21,
   "metadata": {},
   "outputs": [],
   "source": [
    "from scipy.special import expit\n",
    "npd=np.load(\"../NeuralNetworks/trained.npz\")\n",
    "gamma2=npd[\"v_gamma\"]\n",
    "w2=npd[\"m_w\"]\n",
    "theta2=npd[\"v_theta\"]\n",
    "v2=npd[\"m_v\"]\n",
    "def pred2(img):\n",
    "    return expit(expit(img.dot(v2)-gamma2).dot(w2)-theta2)"
   ]
  },
  {
   "cell_type": "code",
   "execution_count": 22,
   "metadata": {},
   "outputs": [
    {
     "data": {
      "text/plain": [
       "(10000, 10)"
      ]
     },
     "execution_count": 22,
     "metadata": {},
     "output_type": "execute_result"
    }
   ],
   "source": [
    "Y2=pred2(test_image)\n",
    "Y2.shape"
   ]
  },
  {
   "cell_type": "code",
   "execution_count": 23,
   "metadata": {},
   "outputs": [
    {
     "name": "stdout",
     "output_type": "stream",
     "text": [
      "accuracy is 0.8401000000,0.9141000000,0.8633000000 separately:\n"
     ]
    }
   ],
   "source": [
    "err=[0 for _ in range(3)]\n",
    "for i in range(test_image.shape[0]):\n",
    "    truth=int(test_label[i])\n",
    "    if(np.argmax(nbres[i])!=truth):\n",
    "        err[0]+=1\n",
    "    if(torch.argmax(Y1[i])!=truth):\n",
    "        err[1]+=1\n",
    "    if(np.argmax(Y2[i])!=truth):\n",
    "        err[2]+=1\n",
    "print(\"accuracy is %.10lf,%.10lf,%.10lf separately:\"%(1-err[0]/10000,1-err[1]/10000,1-err[2]/10000))\n"
   ]
  },
  {
   "cell_type": "markdown",
   "metadata": {},
   "source": [
    "# 三个个体学习器平均加权"
   ]
  },
  {
   "cell_type": "code",
   "execution_count": 25,
   "metadata": {},
   "outputs": [
    {
     "name": "stdout",
     "output_type": "stream",
     "text": [
      "0.9185\n"
     ]
    }
   ],
   "source": [
    "tote=0\n",
    "for i in range(test_image.shape[0]):\n",
    "    truth=int(test_label[i])\n",
    "    accu=np.zeros(10)\n",
    "    \n",
    "    sm=np.sum(nbres[i]) # 和归一化\n",
    "    accu+=(nbres[i]/sm)\n",
    "\n",
    "    sm=torch.sum(Y1[i]).item()\n",
    "    for j in range(10):\n",
    "        accu[j]+=Y1[i][j]/sm\n",
    "    \n",
    "    sm=np.sum(Y2[i])\n",
    "    accu+=(Y2[i]/sm)\n",
    "\n",
    "    if(np.argmax(accu)!=truth):\n",
    "        tote+=1\n",
    "print(1-tote/test_image.shape[0])"
   ]
  },
  {
   "cell_type": "markdown",
   "metadata": {},
   "source": [
    "# 随便设置个加权（按准确率）"
   ]
  },
  {
   "cell_type": "code",
   "execution_count": 27,
   "metadata": {},
   "outputs": [
    {
     "name": "stdout",
     "output_type": "stream",
     "text": [
      "0.919\n"
     ]
    }
   ],
   "source": [
    "tote=0\n",
    "for i in range(test_image.shape[0]):\n",
    "    truth=int(test_label[i])\n",
    "    accu=np.zeros(10)\n",
    "    \n",
    "    sm=np.sum(nbres[i])\n",
    "    accu+=(nbres[i]/sm*0.8401)\n",
    "\n",
    "    sm=torch.sum(Y1[i]).item()\n",
    "    for j in range(10):\n",
    "        accu[j]+=Y1[i][j]/sm*0.9141\n",
    "    \n",
    "    sm=np.sum(Y2[i])\n",
    "    accu+=(Y2[i]/sm*0.8633)\n",
    "\n",
    "    if(np.argmax(accu)!=truth):\n",
    "        tote+=1\n",
    "print(1-tote/test_image.shape[0])"
   ]
  },
  {
   "cell_type": "markdown",
   "metadata": {},
   "source": [
    "# 多数投票"
   ]
  },
  {
   "cell_type": "code",
   "execution_count": 26,
   "metadata": {},
   "outputs": [
    {
     "name": "stdout",
     "output_type": "stream",
     "text": [
      "0.914\n"
     ]
    }
   ],
   "source": [
    "tote=0\n",
    "for i in range(test_image.shape[0]):\n",
    "    truth=int(test_label[i])\n",
    "    tab=np.zeros(10)\n",
    "\n",
    "    tab[np.argmax(nbres[i])]+=1\n",
    "\n",
    "    torchres=torch.argmax(Y1[i])\n",
    "    tab[torchres]+=1\n",
    "\n",
    "    tab[np.argmax(Y2[i])]+=1\n",
    "\n",
    "    predval=np.argmax(tab)\n",
    "    if(tab[predval]==1): # 各不相同，按最精确的分类器的结果\n",
    "        predval=torchres\n",
    "\n",
    "    if(predval!=truth):\n",
    "        tote+=1\n",
    "    \n",
    "print(1-tote/test_image.shape[0])"
   ]
  }
 ],
 "metadata": {
  "interpreter": {
   "hash": "1baa965d5efe3ac65b79dfc60c0d706280b1da80fedb7760faf2759126c4f253"
  },
  "kernelspec": {
   "display_name": "Python 3.8.10 64-bit",
   "language": "python",
   "name": "python3"
  },
  "language_info": {
   "codemirror_mode": {
    "name": "ipython",
    "version": 3
   },
   "file_extension": ".py",
   "mimetype": "text/x-python",
   "name": "python",
   "nbconvert_exporter": "python",
   "pygments_lexer": "ipython3",
   "version": "3.8.10"
  },
  "orig_nbformat": 4
 },
 "nbformat": 4,
 "nbformat_minor": 2
}
