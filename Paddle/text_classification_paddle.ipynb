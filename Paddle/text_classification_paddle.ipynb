{
 "cells": [
  {
   "cell_type": "markdown",
   "metadata": {},
   "source": [
    "# 数据说明\n",
    "\n",
    "THUCNews是根据新浪新闻RSS订阅频道2005~2011年间的历史数据筛选过滤生成，包含74万篇新闻文档（2.19 GB），均为UTF-8纯文本格式。在原始新浪新闻分类体系的基础上，重新整合划分出14个候选分类类别：财经、彩票、房产、股票、家居、教育、科技、社会、时尚、时政、体育、星座、游戏、娱乐。 格式介绍： 为了使参赛者快速进入比赛核心阶段，我们已将训练集按照“标签ID+\\t+标签+\\t+原文标题”的格式抽取出来，参赛者可以直接根据新闻标题进行文本分类任务，希望参赛者能够给出自己的解决方案。 训练集格式 标签ID+\\t+标签+\\t+原文标题 测试集格式 原文标题\n"
   ]
  },
  {
   "cell_type": "code",
   "execution_count": 2,
   "metadata": {
    "execution": {
     "iopub.execute_input": "2022-09-19T09:00:18.142569Z",
     "iopub.status.busy": "2022-09-19T09:00:18.141460Z",
     "iopub.status.idle": "2022-09-19T09:00:20.417141Z",
     "shell.execute_reply": "2022-09-19T09:00:20.415888Z",
     "shell.execute_reply.started": "2022-09-19T09:00:18.142507Z"
    },
    "scrolled": true
   },
   "outputs": [
    {
     "name": "stderr",
     "output_type": "stream",
     "text": [
      "/opt/conda/envs/python35-paddle120-env/lib/python3.7/site-packages/matplotlib/__init__.py:107: DeprecationWarning: Using or importing the ABCs from 'collections' instead of from 'collections.abc' is deprecated, and in 3.8 it will stop working\n",
      "  from collections import MutableMapping\n",
      "/opt/conda/envs/python35-paddle120-env/lib/python3.7/site-packages/matplotlib/rcsetup.py:20: DeprecationWarning: Using or importing the ABCs from 'collections' instead of from 'collections.abc' is deprecated, and in 3.8 it will stop working\n",
      "  from collections import Iterable, Mapping\n",
      "/opt/conda/envs/python35-paddle120-env/lib/python3.7/site-packages/matplotlib/colors.py:53: DeprecationWarning: Using or importing the ABCs from 'collections' instead of from 'collections.abc' is deprecated, and in 3.8 it will stop working\n",
      "  from collections import Sized\n"
     ]
    },
    {
     "name": "stdout",
     "output_type": "stream",
     "text": [
      "2.3.2\n"
     ]
    }
   ],
   "source": [
    "import os\n",
    "import io\n",
    "import sys\n",
    "import paddle\n",
    "import numpy as np\n",
    "import matplotlib.pyplot as plt\n",
    "print(paddle.__version__)\n",
    "import random"
   ]
  },
  {
   "cell_type": "code",
   "execution_count": 18,
   "metadata": {
    "execution": {
     "iopub.execute_input": "2022-09-19T09:15:31.875351Z",
     "iopub.status.busy": "2022-09-19T09:15:31.874146Z",
     "iopub.status.idle": "2022-09-19T09:15:40.390895Z",
     "shell.execute_reply": "2022-09-19T09:15:40.389455Z",
     "shell.execute_reply.started": "2022-09-19T09:15:31.875309Z"
    },
    "scrolled": true
   },
   "outputs": [
    {
     "name": "stdout",
     "output_type": "stream",
     "text": [
      "752476\n",
      "752476\n",
      "['财经', '彩票', '房产', '股票', '家居', '教育', '科技', '社会', '时尚', '时政', '体育', '星座', '游戏', '娱乐']\n"
     ]
    }
   ],
   "source": [
    "label_all=[]\n",
    "with open('./data/Train.txt','r') as f:\n",
    "    lines=f.readlines()\n",
    "    print(len(lines))\n",
    "    label_all.append(lines[0].split('\\t')[1])\n",
    "    for i in range(1,len(lines)):\n",
    "        if(lines[i].split('\\t')[1]!=lines[i-1].split('\\t')[1]):\n",
    "            label_all.append(lines[i].split('\\t')[1])\n",
    "    with open('./data/t.txt','w') as w:\n",
    "        data=[]\n",
    "        for s in lines:\n",
    "            if(len(s.split('\\t'))>2):\n",
    "                data.append(s.split('\\t')[0]+'\\t'+s.split('\\t')[2])\n",
    "        random.shuffle(data)\n",
    "        w.writelines(data)\n",
    "        print(len(data))\n",
    "print(label_all)"
   ]
  },
  {
   "cell_type": "code",
   "execution_count": 4,
   "metadata": {
    "execution": {
     "iopub.execute_input": "2022-09-19T09:00:50.369041Z",
     "iopub.status.busy": "2022-09-19T09:00:50.368036Z",
     "iopub.status.idle": "2022-09-19T09:00:50.376469Z",
     "shell.execute_reply": "2022-09-19T09:00:50.375402Z",
     "shell.execute_reply.started": "2022-09-19T09:00:50.369004Z"
    },
    "scrolled": true
   },
   "outputs": [],
   "source": [
    "# 生成数据字典\n",
    "def create_dict(data_path, dict_path):\n",
    "    dict_set = set()\n",
    "    # 读取全部数据\n",
    "    with open(data_path, 'r', encoding='utf-8') as f:\n",
    "        lines = f.readlines()\n",
    "    # 把数据生成一个元组\n",
    "    for line in lines:\n",
    "        content = line.split('\\t')[-1].replace('\\n', '')\n",
    "        for s in content:\n",
    "            dict_set.add(s)\n",
    "    # 把元组转换成字典，一个字对应一个数字\n",
    "    dict_list = []\n",
    "    i = 0\n",
    "    for s in dict_set:\n",
    "        dict_list.append([s, i])\n",
    "        i += 1\n",
    "    # 添加未知字符\n",
    "    dict_txt = dict(dict_list)\n",
    "    end_dict = {\"<unk>\": i}\n",
    "    dict_txt.update(end_dict)\n",
    "    end_dict = {\"<pad>\": i+1}\n",
    "    dict_txt.update(end_dict)\n",
    "    # 把这些字典保存到本地中\n",
    "    with open(dict_path, 'w', encoding='utf-8') as f:\n",
    "        f.write(str(dict_txt))\n",
    "    print(\"数据字典生成完成！\")\n"
   ]
  },
  {
   "cell_type": "code",
   "execution_count": 5,
   "metadata": {
    "execution": {
     "iopub.execute_input": "2022-09-19T09:00:58.165491Z",
     "iopub.status.busy": "2022-09-19T09:00:58.164752Z",
     "iopub.status.idle": "2022-09-19T09:00:58.175141Z",
     "shell.execute_reply": "2022-09-19T09:00:58.174319Z",
     "shell.execute_reply.started": "2022-09-19T09:00:58.165455Z"
    },
    "scrolled": true
   },
   "outputs": [],
   "source": [
    "# 创建序列化表示的数据,并按照一定比例划分训练数据train_list.txt与验证数据eval_list.txt\n",
    "def create_data_list(data_list_path):\n",
    "\n",
    "    with open(os.path.join(data_list_path, 'dict.txt'), 'r', encoding='utf-8') as f_data:\n",
    "        dict_txt = eval(f_data.readlines()[0])\n",
    "\n",
    "    with open(os.path.join(data_list_path, 't.txt'), 'r', encoding='utf-8') as f_data:\n",
    "        lines = f_data.readlines()\n",
    "    i = 0\n",
    "    maxlen = 0\n",
    "    with open(os.path.join(data_list_path, 'eval_list.txt'), 'w', encoding='utf-8') as f_eval,open(os.path.join(data_list_path, 'train_list.txt'), 'w', encoding='utf-8') as f_train:\n",
    "        for line in lines:\n",
    "            words = line.split('\\t')[-1].replace('\\n', '')\n",
    "            if(len(words)<1):\n",
    "                continue\n",
    "            maxlen = max(maxlen, len(words))\n",
    "            label = line.split('\\t')[0]\n",
    "            labs = \"\"\n",
    "            # 每8个 抽取一个数据用于验证\n",
    "            if i % 8 == 0:\n",
    "                for s in words:\n",
    "                    lab = str(dict_txt[s])\n",
    "                    labs = labs + lab + ','\n",
    "                labs = labs[:-1]\n",
    "                labs = labs + '\\t' + label + '\\n'\n",
    "                f_eval.write(labs)\n",
    "            else:\n",
    "                for s in words:\n",
    "                    lab = str(dict_txt[s])\n",
    "                    labs = labs + lab + ','\n",
    "                labs = labs[:-1]\n",
    "                labs = labs + '\\t' + label + '\\n'\n",
    "                f_train.write(labs)\n",
    "            i += 1\n",
    "    print(\"数据列表生成完成！\")\n",
    "    print(\"样本最长长度：\" + str(maxlen))\n",
    "    print(\"总数据数量\"+str(i))"
   ]
  },
  {
   "cell_type": "code",
   "execution_count": 6,
   "metadata": {
    "execution": {
     "iopub.execute_input": "2022-09-19T09:01:08.469784Z",
     "iopub.status.busy": "2022-09-19T09:01:08.468751Z",
     "iopub.status.idle": "2022-09-19T09:01:18.721825Z",
     "shell.execute_reply": "2022-09-19T09:01:18.720854Z",
     "shell.execute_reply.started": "2022-09-19T09:01:08.469738Z"
    },
    "scrolled": true
   },
   "outputs": [
    {
     "name": "stdout",
     "output_type": "stream",
     "text": [
      "数据字典生成完成！\n",
      "数据列表生成完成！\n",
      "样本最长长度：81\n",
      "总数据数量752475\n"
     ]
    }
   ],
   "source": [
    "# 把生成的数据列表都放在自己的总类别文件夹中\n",
    "data_root_path = \"/home/aistudio/data/\" \n",
    "data_path = os.path.join(data_root_path, 't.txt')\n",
    "dict_path = os.path.join(data_root_path, \"dict.txt\")\n",
    "\n",
    "# 创建数据字典\n",
    "create_dict(data_path, dict_path)\n",
    "\n",
    "# 创建数据列表\n",
    "create_data_list(data_root_path)"
   ]
  },
  {
   "cell_type": "code",
   "execution_count": 7,
   "metadata": {
    "execution": {
     "iopub.execute_input": "2022-09-19T09:01:20.665438Z",
     "iopub.status.busy": "2022-09-19T09:01:20.664293Z",
     "iopub.status.idle": "2022-09-19T09:01:20.669549Z",
     "shell.execute_reply": "2022-09-19T09:01:20.668697Z",
     "shell.execute_reply.started": "2022-09-19T09:01:20.665395Z"
    },
    "scrolled": true
   },
   "outputs": [],
   "source": [
    "def load_vocab(file_path):\n",
    "    fr = open(file_path, 'r', encoding='utf8')\n",
    "    vocab = eval(fr.read())   #读取的str转换为字典\n",
    "    fr.close()\n",
    "    return vocab"
   ]
  },
  {
   "cell_type": "code",
   "execution_count": 8,
   "metadata": {
    "execution": {
     "iopub.execute_input": "2022-09-19T09:03:55.443694Z",
     "iopub.status.busy": "2022-09-19T09:03:55.438677Z",
     "iopub.status.idle": "2022-09-19T09:03:56.044440Z",
     "shell.execute_reply": "2022-09-19T09:03:56.036402Z",
     "shell.execute_reply.started": "2022-09-19T09:03:55.443642Z"
    },
    "scrolled": true
   },
   "outputs": [
    {
     "name": "stdout",
     "output_type": "stream",
     "text": [
      "0:\n",
      "sentence list id is: ['40', '3119', '4063', '1161', '1066', '4596', '3919', '2042', '2299', '4493', '1701', '2513', '3560', '2635', '1532', '4546', '3824', '693', '2249', '5013', '4956']\n",
      "sentence list is:  6 内 地 房 企 抢 滩 香 港 上 市   民 生 最 快 本 周 递 申 请\n",
      "sentence label id is: 3\n",
      "---------------------------------\n",
      "1:\n",
      "sentence list id is: ['785', '2374', '969', '2159', '753', '372', '770', '1412', '1161', '2318', '3956', '2513', '4703', '4703', '773', '3089', '5100', '128', '372', '4872', '3959', '2972', '3861', '4767']\n",
      "sentence list is:  陈 绮 贞 北 京 开 唱 票 房 告 捷   1 1 月 9 日 加 开 一 场 ( 图 )\n",
      "sentence label id is: 13\n",
      "---------------------------------\n"
     ]
    }
   ],
   "source": [
    "# 打印前2条训练数据\n",
    "vocab = load_vocab(os.path.join(data_root_path, 'dict.txt'))\n",
    "\n",
    "def ids_to_str(ids):\n",
    "    words = []\n",
    "    for k in ids:\n",
    "        w = list(vocab.keys())[list(vocab.values()).index(int(k))]\n",
    "        words.append(w if isinstance(w, str) else w.decode('ASCII'))\n",
    "    return \" \".join(words)\n",
    "\n",
    "file_path = os.path.join(data_root_path, 'train_list.txt')\n",
    "with io.open(file_path, \"r\", encoding='utf8') as fin:\n",
    "    i = 0\n",
    "    for line in fin:\n",
    "        cols = line.strip().split(\"\\t\")\n",
    "        if len(cols) != 2:\n",
    "            sys.stderr.write(\"[NOTICE] Error Format Line!\")\n",
    "            continue\n",
    "        label = int(cols[1])\n",
    "        wids = cols[0].split(\",\")\n",
    "        print(str(i)+\":\")\n",
    "        print('sentence list id is:', wids)\n",
    "        print('sentence list is: ', ids_to_str(wids))\n",
    "        print('sentence label id is:', label)\n",
    "        print('---------------------------------')\n",
    "        i += 1\n",
    "        if i == 2: break"
   ]
  },
  {
   "cell_type": "code",
   "execution_count": 21,
   "metadata": {
    "execution": {
     "iopub.execute_input": "2022-09-19T09:20:40.479692Z",
     "iopub.status.busy": "2022-09-19T09:20:40.478663Z",
     "iopub.status.idle": "2022-09-19T09:22:38.663581Z",
     "shell.execute_reply": "2022-09-19T09:22:38.655622Z",
     "shell.execute_reply.started": "2022-09-19T09:20:40.479651Z"
    },
    "scrolled": true,
    "tags": []
   },
   "outputs": [
    {
     "name": "stdout",
     "output_type": "stream",
     "text": [
      "=============train_dataset =============\n",
      "[  40 3119 4063 1161 1066 4596 3919 2042 2299 4493 1701 2513 3560 2635\n",
      " 1532 4546 3824  693 2249 5013 4956 5250 5250 5250 5250 5250 5250 5250\n",
      " 5250 5250 5250 5250 5250 5250 5250 5250 5250 5250 5250 5250 5250 5250\n",
      " 5250 5250 5250 5250 5250 5250 5250 5250 5250 5250 5250 5250 5250 5250\n",
      " 5250 5250 5250 5250 5250 5250 5250 5250 5250 5250 5250 5250 5250 5250\n",
      " 5250 5250 5250 5250 5250 5250 5250 5250 5250 5250 5250 5250 5250 5250\n",
      " 5250 5250 5250 5250 5250 5250 5250 5250 5250 5250 5250 5250 5250 5250\n",
      " 5250 5250 5250 5250 5250 5250 5250 5250 5250 5250 5250 5250 5250 5250\n",
      " 5250 5250 5250 5250 5250 5250 5250 5250 5250 5250 5250 5250 5250 5250\n",
      " 5250 5250 5250 5250 5250 5250 5250 5250 5250 5250 5250 5250 5250 5250\n",
      " 5250 5250 5250 5250 5250 5250 5250 5250 5250 5250]\n",
      "(150,)\n",
      "[3]\n",
      "=============test_dataset =============\n",
      "[4755 1915 2137 2599 3896 3182 3455 4728 3417 1989 3976 5055 3684 2513\n",
      " 5236 5011 4728  238 3021 2293 2365  873 2748 4737 5250 5250 5250 5250\n",
      " 5250 5250 5250 5250 5250 5250 5250 5250 5250 5250 5250 5250 5250 5250\n",
      " 5250 5250 5250 5250 5250 5250 5250 5250 5250 5250 5250 5250 5250 5250\n",
      " 5250 5250 5250 5250 5250 5250 5250 5250 5250 5250 5250 5250 5250 5250\n",
      " 5250 5250 5250 5250 5250 5250 5250 5250 5250 5250 5250 5250 5250 5250\n",
      " 5250 5250 5250 5250 5250 5250 5250 5250 5250 5250 5250 5250 5250 5250\n",
      " 5250 5250 5250 5250 5250 5250 5250 5250 5250 5250 5250 5250 5250 5250\n",
      " 5250 5250 5250 5250 5250 5250 5250 5250 5250 5250 5250 5250 5250 5250\n",
      " 5250 5250 5250 5250 5250 5250 5250 5250 5250 5250 5250 5250 5250 5250\n",
      " 5250 5250 5250 5250 5250 5250 5250 5250 5250 5250]\n",
      "(150,)\n",
      "[7]\n"
     ]
    }
   ],
   "source": [
    "\n",
    "vocab = load_vocab(os.path.join(data_root_path, 'dict.txt'))\n",
    "\n",
    "class Dataset(paddle.io.Dataset):\n",
    "    def __init__(self, data_dir):\n",
    "        self.data_dir = data_dir\n",
    "        self.all_data = []\n",
    "       \n",
    "        with io.open(self.data_dir, \"r\", encoding='utf8') as fin:\n",
    "            for line in fin:\n",
    "                cols = line.strip().split(\"\\t\")\n",
    "                if len(cols) != 2:\n",
    "                    sys.stderr.write(\"[NOTICE] Error Format Line!\")\n",
    "                    continue\n",
    "                label = []\n",
    "                label.append(int(cols[1]))\n",
    "                wids = cols[0].split(\",\")\n",
    "                if len(wids)>=150:\n",
    "                    wids = np.array(wids[:150]).astype('int64')     \n",
    "                else:\n",
    "                    wids = np.concatenate([wids, [vocab[\"<pad>\"]]*(150-len(wids))]).astype('int64')\n",
    "                label = np.array(label).astype('int64')\n",
    "                self.all_data.append((wids, label))\n",
    "\n",
    "        \n",
    "    def __getitem__(self, index):\n",
    "        data, label = self.all_data[index]\n",
    "        return data, label\n",
    "\n",
    "    def __len__(self):\n",
    "        return len(self.all_data)\n",
    "\n",
    "\n",
    "batch_size = 1024\n",
    "train_dataset = Dataset(os.path.join(data_root_path, 'train_list.txt'))\n",
    "test_dataset = Dataset(os.path.join(data_root_path, 'eval_list.txt'))\n",
    "\n",
    "train_loader = paddle.io.DataLoader(train_dataset, places=paddle.CPUPlace(), return_list=True,\n",
    "                                    shuffle=True, batch_size=batch_size, drop_last=True)\n",
    "test_loader = paddle.io.DataLoader(test_dataset, places=paddle.CPUPlace(), return_list=True,\n",
    "                                    shuffle=True, batch_size=batch_size, drop_last=True)\n",
    "\n",
    "print('=============train_dataset =============') \n",
    "for data, label in train_dataset:\n",
    "    print(data)\n",
    "    print(np.array(data).shape)\n",
    "    print(label)\n",
    "    break\n",
    "\n",
    "\n",
    "print('=============test_dataset =============') \n",
    "for data, label in test_dataset:\n",
    "    print(data)\n",
    "    print(np.array(data).shape)\n",
    "    print(label)\n",
    "    break\n"
   ]
  },
  {
   "cell_type": "code",
   "execution_count": 19,
   "metadata": {
    "execution": {
     "iopub.execute_input": "2022-09-19T09:15:55.491463Z",
     "iopub.status.busy": "2022-09-19T09:15:55.490221Z",
     "iopub.status.idle": "2022-09-19T09:15:55.532249Z",
     "shell.execute_reply": "2022-09-19T09:15:55.531384Z",
     "shell.execute_reply.started": "2022-09-19T09:15:55.491411Z"
    },
    "scrolled": true
   },
   "outputs": [
    {
     "name": "stdout",
     "output_type": "stream",
     "text": [
      "-----------------------------------------------------------------------------------------------------\n",
      " Layer (type)       Input Shape                       Output Shape                      Param #    \n",
      "=====================================================================================================\n",
      "  Embedding-4       [[32, 150]]                      [32, 150, 128]                     672,128    \n",
      "   Linear-7       [[32, 150, 128]]                   [32, 150, 128]                     16,512     \n",
      "    LSTM-4        [[32, 150, 128]]   [[32, 150, 128], [[1, 32, 128], [1, 32, 128]]]     132,096    \n",
      "   Linear-8        [[32, 19200]]                        [32, 14]                        268,814    \n",
      "=====================================================================================================\n",
      "Total params: 1,089,550\n",
      "Trainable params: 1,089,550\n",
      "Non-trainable params: 0\n",
      "-----------------------------------------------------------------------------------------------------\n",
      "Input size (MB): 0.02\n",
      "Forward/backward pass size (MB): 14.13\n",
      "Params size (MB): 4.16\n",
      "Estimated Total Size (MB): 18.30\n",
      "-----------------------------------------------------------------------------------------------------\n",
      "\n"
     ]
    },
    {
     "name": "stderr",
     "output_type": "stream",
     "text": [
      "/opt/conda/envs/python35-paddle120-env/lib/python3.7/site-packages/numpy/core/fromnumeric.py:87: VisibleDeprecationWarning: Creating an ndarray from ragged nested sequences (which is a list-or-tuple of lists-or-tuples-or ndarrays with different lengths or shapes) is deprecated. If you meant to do this, you must specify 'dtype=object' when creating the ndarray\n",
      "  return ufunc.reduce(obj, axis, dtype, out, **passkwargs)\n"
     ]
    },
    {
     "data": {
      "text/plain": [
       "{'total_params': 1089550, 'trainable_params': 1089550}"
      ]
     },
     "execution_count": 19,
     "metadata": {},
     "output_type": "execute_result"
    }
   ],
   "source": [
    "import paddle\n",
    "from paddle.nn import Conv2D, Linear, Embedding\n",
    "from paddle import to_tensor\n",
    "import paddle.nn.functional as F\n",
    "\n",
    "class RNN(paddle.nn.Layer):\n",
    "    def __init__(self):\n",
    "        super(RNN, self).__init__()\n",
    "        self.dict_dim = vocab[\"<pad>\"]\n",
    "        self.emb_dim = 128\n",
    "        self.hid_dim = 128\n",
    "        self.class_dim = len(label_all)\n",
    "        self.embedding = Embedding(\n",
    "            self.dict_dim + 1, self.emb_dim,\n",
    "            sparse=False)\n",
    "        self._fc1 = Linear(self.emb_dim, self.hid_dim)\n",
    "        self.lstm = paddle.nn.LSTM(self.hid_dim, self.hid_dim)\n",
    "        self.fc2 = Linear(19200, self.class_dim)\n",
    "\n",
    "    def forward(self, inputs):\n",
    "        # [32, 150]\n",
    "        emb = self.embedding(inputs)\n",
    "        # [32, 150, 128]\n",
    "        fc_1 = self._fc1(emb)\n",
    "        # [32, 150, 128]\n",
    "        x = self.lstm(fc_1)\n",
    "        x = paddle.reshape(x[0], [0, -1])\n",
    "        x = self.fc2(x)\n",
    "        x = paddle.nn.functional.softmax(x)\n",
    "        return x\n",
    "\n",
    "rnn = RNN()\n",
    "paddle.summary(rnn,(32,150),\"int64\")"
   ]
  },
  {
   "cell_type": "code",
   "execution_count": 10,
   "metadata": {
    "execution": {
     "iopub.execute_input": "2022-09-19T09:09:58.718251Z",
     "iopub.status.busy": "2022-09-19T09:09:58.717865Z",
     "iopub.status.idle": "2022-09-19T09:09:58.722596Z",
     "shell.execute_reply": "2022-09-19T09:09:58.721924Z",
     "shell.execute_reply.started": "2022-09-19T09:09:58.718224Z"
    },
    "scrolled": true
   },
   "outputs": [],
   "source": [
    "def draw_process(title,color,iters,data,label):\n",
    "    plt.title(title, fontsize=24)\n",
    "    plt.xlabel(\"iter\", fontsize=20)\n",
    "    plt.ylabel(label, fontsize=20)\n",
    "    plt.plot(iters, data,color=color,label=label) \n",
    "    plt.legend()\n",
    "    plt.grid()\n",
    "    plt.show()"
   ]
  },
  {
   "cell_type": "code",
   "execution_count": 24,
   "metadata": {
    "execution": {
     "iopub.execute_input": "2022-09-19T09:26:10.745148Z",
     "iopub.status.busy": "2022-09-19T09:26:10.744078Z",
     "iopub.status.idle": "2022-09-19T09:30:58.967786Z",
     "shell.execute_reply": "2022-09-19T09:30:58.966919Z",
     "shell.execute_reply.started": "2022-09-19T09:26:10.745102Z"
    },
    "scrolled": true,
    "tags": []
   },
   "outputs": [
    {
     "name": "stdout",
     "output_type": "stream",
     "text": [
      "epoch: 0, batch_id: 0, loss is: [2.639565]\n",
      "epoch: 0, batch_id: 50, loss is: [2.2660835]\n",
      "epoch: 0, batch_id: 100, loss is: [2.2637713]\n",
      "epoch: 0, batch_id: 150, loss is: [2.2591686]\n",
      "epoch: 0, batch_id: 200, loss is: [2.2724428]\n",
      "epoch: 0, batch_id: 250, loss is: [2.237433]\n",
      "epoch: 0, batch_id: 300, loss is: [2.2317116]\n",
      "epoch: 0, batch_id: 350, loss is: [2.2520847]\n",
      "epoch: 0, batch_id: 400, loss is: [2.2621312]\n",
      "epoch: 0, batch_id: 450, loss is: [2.2586126]\n",
      "epoch: 0, batch_id: 500, loss is: [2.2493427]\n",
      "epoch: 0, batch_id: 550, loss is: [2.2314615]\n",
      "epoch: 0, batch_id: 600, loss is: [2.2350821]\n",
      "[validation] accuracy: 0.510817289352417, loss: 2.2400968074798584\n",
      "epoch: 1, batch_id: 0, loss is: [2.2182465]\n",
      "epoch: 1, batch_id: 50, loss is: [2.262248]\n",
      "epoch: 1, batch_id: 100, loss is: [2.220769]\n",
      "epoch: 1, batch_id: 150, loss is: [2.2345674]\n",
      "epoch: 1, batch_id: 200, loss is: [2.2580407]\n",
      "epoch: 1, batch_id: 250, loss is: [2.2523968]\n",
      "epoch: 1, batch_id: 300, loss is: [2.2009826]\n",
      "epoch: 1, batch_id: 350, loss is: [2.1454592]\n",
      "epoch: 1, batch_id: 400, loss is: [2.1410258]\n",
      "epoch: 1, batch_id: 450, loss is: [2.1568477]\n",
      "epoch: 1, batch_id: 500, loss is: [2.1360865]\n",
      "epoch: 1, batch_id: 550, loss is: [2.1409106]\n",
      "epoch: 1, batch_id: 600, loss is: [2.1389384]\n",
      "[validation] accuracy: 0.6130558848381042, loss: 2.1400909423828125\n",
      "epoch: 2, batch_id: 0, loss is: [2.1426013]\n",
      "epoch: 2, batch_id: 50, loss is: [2.1294851]\n",
      "epoch: 2, batch_id: 100, loss is: [2.135202]\n",
      "epoch: 2, batch_id: 150, loss is: [2.1194193]\n",
      "epoch: 2, batch_id: 200, loss is: [2.092586]\n",
      "epoch: 2, batch_id: 250, loss is: [2.0897412]\n",
      "epoch: 2, batch_id: 300, loss is: [2.030885]\n",
      "epoch: 2, batch_id: 350, loss is: [1.9776843]\n",
      "epoch: 2, batch_id: 400, loss is: [1.9600463]\n",
      "epoch: 2, batch_id: 450, loss is: [1.9726826]\n",
      "epoch: 2, batch_id: 500, loss is: [1.9474951]\n",
      "epoch: 2, batch_id: 550, loss is: [1.9263692]\n",
      "epoch: 2, batch_id: 600, loss is: [1.9445127]\n",
      "[validation] accuracy: 0.8107722401618958, loss: 1.944441556930542\n",
      "epoch: 3, batch_id: 0, loss is: [1.9162949]\n",
      "epoch: 3, batch_id: 50, loss is: [1.9324023]\n",
      "epoch: 3, batch_id: 100, loss is: [1.9494064]\n",
      "epoch: 3, batch_id: 150, loss is: [1.919956]\n",
      "epoch: 3, batch_id: 200, loss is: [1.9407959]\n",
      "epoch: 3, batch_id: 250, loss is: [1.9300554]\n",
      "epoch: 3, batch_id: 300, loss is: [1.9183973]\n",
      "epoch: 3, batch_id: 350, loss is: [1.9259113]\n",
      "epoch: 3, batch_id: 400, loss is: [1.9343079]\n",
      "epoch: 3, batch_id: 450, loss is: [1.8984493]\n",
      "epoch: 3, batch_id: 500, loss is: [1.9201405]\n",
      "epoch: 3, batch_id: 550, loss is: [1.9248347]\n",
      "epoch: 3, batch_id: 600, loss is: [1.9397185]\n",
      "[validation] accuracy: 0.8388564586639404, loss: 1.91586172580719\n",
      "epoch: 4, batch_id: 0, loss is: [1.9064878]\n",
      "epoch: 4, batch_id: 50, loss is: [1.8973973]\n",
      "epoch: 4, batch_id: 100, loss is: [1.9022163]\n",
      "epoch: 4, batch_id: 150, loss is: [1.8985772]\n",
      "epoch: 4, batch_id: 200, loss is: [1.8996469]\n",
      "epoch: 4, batch_id: 250, loss is: [1.914687]\n",
      "epoch: 4, batch_id: 300, loss is: [1.9170896]\n",
      "epoch: 4, batch_id: 350, loss is: [1.8972974]\n",
      "epoch: 4, batch_id: 400, loss is: [1.8965259]\n",
      "epoch: 4, batch_id: 450, loss is: [1.9044592]\n",
      "epoch: 4, batch_id: 500, loss is: [1.8891461]\n",
      "epoch: 4, batch_id: 550, loss is: [1.8808725]\n",
      "epoch: 4, batch_id: 600, loss is: [1.862231]\n",
      "[validation] accuracy: 0.8870728611946106, loss: 1.8679940700531006\n",
      "epoch: 5, batch_id: 0, loss is: [1.8654598]\n",
      "epoch: 5, batch_id: 50, loss is: [1.8606415]\n",
      "epoch: 5, batch_id: 100, loss is: [1.8553127]\n",
      "epoch: 5, batch_id: 150, loss is: [1.8566266]\n",
      "epoch: 5, batch_id: 200, loss is: [1.8355792]\n",
      "epoch: 5, batch_id: 250, loss is: [1.8473887]\n",
      "epoch: 5, batch_id: 300, loss is: [1.8580223]\n",
      "epoch: 5, batch_id: 350, loss is: [1.8550419]\n",
      "epoch: 5, batch_id: 400, loss is: [1.8659688]\n",
      "epoch: 5, batch_id: 450, loss is: [1.8658643]\n",
      "epoch: 5, batch_id: 500, loss is: [1.8466005]\n",
      "epoch: 5, batch_id: 550, loss is: [1.8539443]\n",
      "epoch: 5, batch_id: 600, loss is: [1.8466567]\n",
      "[validation] accuracy: 0.9000901579856873, loss: 1.8549318313598633\n",
      "epoch: 6, batch_id: 0, loss is: [1.8476369]\n",
      "epoch: 6, batch_id: 50, loss is: [1.8400878]\n",
      "epoch: 6, batch_id: 100, loss is: [1.8493106]\n",
      "epoch: 6, batch_id: 150, loss is: [1.843913]\n",
      "epoch: 6, batch_id: 200, loss is: [1.8324208]\n",
      "epoch: 6, batch_id: 250, loss is: [1.8405924]\n",
      "epoch: 6, batch_id: 300, loss is: [1.8306271]\n",
      "epoch: 6, batch_id: 350, loss is: [1.8363593]\n",
      "epoch: 6, batch_id: 400, loss is: [1.8162926]\n",
      "epoch: 6, batch_id: 450, loss is: [1.8556801]\n",
      "epoch: 6, batch_id: 500, loss is: [1.8466907]\n",
      "epoch: 6, batch_id: 550, loss is: [1.831672]\n",
      "epoch: 6, batch_id: 600, loss is: [1.8625214]\n",
      "[validation] accuracy: 0.9057992696762085, loss: 1.8492071628570557\n",
      "epoch: 7, batch_id: 0, loss is: [1.8313932]\n",
      "epoch: 7, batch_id: 50, loss is: [1.8532753]\n",
      "epoch: 7, batch_id: 100, loss is: [1.8353647]\n",
      "epoch: 7, batch_id: 150, loss is: [1.8480967]\n",
      "epoch: 7, batch_id: 200, loss is: [1.8558753]\n",
      "epoch: 7, batch_id: 250, loss is: [1.8485241]\n",
      "epoch: 7, batch_id: 300, loss is: [1.8437185]\n",
      "epoch: 7, batch_id: 350, loss is: [1.8398976]\n",
      "epoch: 7, batch_id: 400, loss is: [1.8369124]\n",
      "epoch: 7, batch_id: 450, loss is: [1.8356886]\n",
      "epoch: 7, batch_id: 500, loss is: [1.8326759]\n",
      "epoch: 7, batch_id: 550, loss is: [1.828032]\n",
      "epoch: 7, batch_id: 600, loss is: [1.8363973]\n",
      "[validation] accuracy: 0.9078060388565063, loss: 1.8471455574035645\n",
      "epoch: 8, batch_id: 0, loss is: [1.8267785]\n",
      "epoch: 8, batch_id: 50, loss is: [1.8333193]\n",
      "epoch: 8, batch_id: 100, loss is: [1.841448]\n",
      "epoch: 8, batch_id: 150, loss is: [1.8354763]\n",
      "epoch: 8, batch_id: 200, loss is: [1.8357885]\n",
      "epoch: 8, batch_id: 250, loss is: [1.8119864]\n",
      "epoch: 8, batch_id: 300, loss is: [1.8273156]\n",
      "epoch: 8, batch_id: 350, loss is: [1.8370823]\n",
      "epoch: 8, batch_id: 400, loss is: [1.8512689]\n",
      "epoch: 8, batch_id: 450, loss is: [1.8420705]\n",
      "epoch: 8, batch_id: 500, loss is: [1.8395262]\n",
      "epoch: 8, batch_id: 550, loss is: [1.8213632]\n",
      "epoch: 8, batch_id: 600, loss is: [1.8315269]\n",
      "[validation] accuracy: 0.9082460403442383, loss: 1.846666932106018\n",
      "epoch: 9, batch_id: 0, loss is: [1.8337991]\n",
      "epoch: 9, batch_id: 50, loss is: [1.8233263]\n",
      "epoch: 9, batch_id: 100, loss is: [1.830096]\n",
      "epoch: 9, batch_id: 150, loss is: [1.8351653]\n",
      "epoch: 9, batch_id: 200, loss is: [1.8329988]\n",
      "epoch: 9, batch_id: 250, loss is: [1.827159]\n",
      "epoch: 9, batch_id: 300, loss is: [1.8268473]\n",
      "epoch: 9, batch_id: 350, loss is: [1.8164017]\n",
      "epoch: 9, batch_id: 400, loss is: [1.8370434]\n",
      "epoch: 9, batch_id: 450, loss is: [1.8288283]\n",
      "epoch: 9, batch_id: 500, loss is: [1.8433799]\n",
      "epoch: 9, batch_id: 550, loss is: [1.8292319]\n",
      "epoch: 9, batch_id: 600, loss is: [1.8259183]\n",
      "[validation] accuracy: 0.9138800501823425, loss: 1.8409547805786133\n",
      "epoch: 10, batch_id: 0, loss is: [1.8302746]\n",
      "epoch: 10, batch_id: 50, loss is: [1.8165696]\n",
      "epoch: 10, batch_id: 100, loss is: [1.8145163]\n",
      "epoch: 10, batch_id: 150, loss is: [1.8337463]\n",
      "epoch: 10, batch_id: 200, loss is: [1.8287836]\n",
      "epoch: 10, batch_id: 250, loss is: [1.8399556]\n",
      "epoch: 10, batch_id: 300, loss is: [1.8110263]\n",
      "epoch: 10, batch_id: 350, loss is: [1.818118]\n",
      "epoch: 10, batch_id: 400, loss is: [1.8183951]\n",
      "epoch: 10, batch_id: 450, loss is: [1.8313748]\n",
      "epoch: 10, batch_id: 500, loss is: [1.8382729]\n",
      "epoch: 10, batch_id: 550, loss is: [1.8225739]\n",
      "epoch: 10, batch_id: 600, loss is: [1.818571]\n",
      "[validation] accuracy: 0.9154468774795532, loss: 1.8391848802566528\n",
      "epoch: 11, batch_id: 0, loss is: [1.8303736]\n",
      "epoch: 11, batch_id: 50, loss is: [1.8262964]\n",
      "epoch: 11, batch_id: 100, loss is: [1.8165393]\n",
      "epoch: 11, batch_id: 150, loss is: [1.8322663]\n",
      "epoch: 11, batch_id: 200, loss is: [1.8137597]\n",
      "epoch: 11, batch_id: 250, loss is: [1.8217337]\n",
      "epoch: 11, batch_id: 300, loss is: [1.829401]\n",
      "epoch: 11, batch_id: 350, loss is: [1.8227901]\n",
      "epoch: 11, batch_id: 400, loss is: [1.8354235]\n",
      "epoch: 11, batch_id: 450, loss is: [1.8094772]\n",
      "epoch: 11, batch_id: 500, loss is: [1.8298539]\n",
      "epoch: 11, batch_id: 550, loss is: [1.823504]\n",
      "epoch: 11, batch_id: 600, loss is: [1.8189392]\n",
      "[validation] accuracy: 0.9163804650306702, loss: 1.8387401103973389\n",
      "epoch: 12, batch_id: 0, loss is: [1.8169209]\n",
      "epoch: 12, batch_id: 50, loss is: [1.81199]\n",
      "epoch: 12, batch_id: 100, loss is: [1.8292725]\n",
      "epoch: 12, batch_id: 150, loss is: [1.8078264]\n",
      "epoch: 12, batch_id: 200, loss is: [1.82042]\n",
      "epoch: 12, batch_id: 250, loss is: [1.8228488]\n",
      "epoch: 12, batch_id: 300, loss is: [1.8049078]\n",
      "epoch: 12, batch_id: 350, loss is: [1.811079]\n",
      "epoch: 12, batch_id: 400, loss is: [1.8152609]\n",
      "epoch: 12, batch_id: 450, loss is: [1.8204147]\n",
      "epoch: 12, batch_id: 500, loss is: [1.8263761]\n",
      "epoch: 12, batch_id: 550, loss is: [1.8309695]\n",
      "epoch: 12, batch_id: 600, loss is: [1.8265426]\n",
      "[validation] accuracy: 0.9183551073074341, loss: 1.8366590738296509\n",
      "epoch: 13, batch_id: 0, loss is: [1.8158642]\n",
      "epoch: 13, batch_id: 50, loss is: [1.8245319]\n",
      "epoch: 13, batch_id: 100, loss is: [1.8071728]\n",
      "epoch: 13, batch_id: 150, loss is: [1.8072575]\n",
      "epoch: 13, batch_id: 200, loss is: [1.8175249]\n",
      "epoch: 13, batch_id: 250, loss is: [1.8178585]\n",
      "epoch: 13, batch_id: 300, loss is: [1.8227094]\n",
      "epoch: 13, batch_id: 350, loss is: [1.7954547]\n",
      "epoch: 13, batch_id: 400, loss is: [1.8144437]\n",
      "epoch: 13, batch_id: 450, loss is: [1.816832]\n",
      "epoch: 13, batch_id: 500, loss is: [1.8219017]\n",
      "epoch: 13, batch_id: 550, loss is: [1.826301]\n",
      "epoch: 13, batch_id: 600, loss is: [1.8188244]\n",
      "[validation] accuracy: 0.9189560413360596, loss: 1.8358794450759888\n",
      "epoch: 14, batch_id: 0, loss is: [1.812138]\n",
      "epoch: 14, batch_id: 50, loss is: [1.8166612]\n",
      "epoch: 14, batch_id: 100, loss is: [1.8045884]\n",
      "epoch: 14, batch_id: 150, loss is: [1.8151048]\n",
      "epoch: 14, batch_id: 200, loss is: [1.8070377]\n",
      "epoch: 14, batch_id: 250, loss is: [1.8180135]\n",
      "epoch: 14, batch_id: 300, loss is: [1.819577]\n",
      "epoch: 14, batch_id: 350, loss is: [1.8050098]\n",
      "epoch: 14, batch_id: 400, loss is: [1.8071127]\n",
      "epoch: 14, batch_id: 450, loss is: [1.8189429]\n",
      "epoch: 14, batch_id: 500, loss is: [1.8146448]\n",
      "epoch: 14, batch_id: 550, loss is: [1.812437]\n",
      "epoch: 14, batch_id: 600, loss is: [1.814331]\n",
      "[validation] accuracy: 0.9178184866905212, loss: 1.8372100591659546\n"
     ]
    },
    {
     "data": {
      "image/png": "[encoded data removed]",
      "text/plain": [
       "<Figure size 640x480 with 1 Axes>"
      ]
     },
     "metadata": {},
     "output_type": "display_data"
    },
    {
     "data": {
      "image/png": "[encoded data removed]",
      "text/plain": [
       "<Figure size 640x480 with 1 Axes>"
      ]
     },
     "metadata": {},
     "output_type": "display_data"
    }
   ],
   "source": [
    "def train(model):\n",
    "    model.train()\n",
    "    opt = paddle.optimizer.Adam(learning_rate=0.002, parameters=model.parameters())\n",
    "    \n",
    "    steps = 0\n",
    "    Iters, total_loss, total_acc = [], [], []\n",
    "    \n",
    "    for epoch in range(15):\n",
    "        for batch_id, data in enumerate(train_loader):\n",
    "            steps += 1\n",
    "            sent = data[0]\n",
    "            label = data[1]\n",
    "            \n",
    "            logits = model(sent)\n",
    "            loss = paddle.nn.functional.cross_entropy(logits, label)\n",
    "            acc = paddle.metric.accuracy(logits, label)\n",
    "\n",
    "            if batch_id % 50 == 0:\n",
    "                Iters.append(steps)\n",
    "                total_loss.append(loss.numpy()[0])\n",
    "                total_acc.append(acc.numpy()[0])\n",
    "\n",
    "                print(\"epoch: {}, batch_id: {}, loss is: {}\".format(epoch, batch_id, loss.numpy()))\n",
    "            \n",
    "            loss.backward()\n",
    "            opt.step()\n",
    "            opt.clear_grad()\n",
    "\n",
    "        # evaluate model after one epoch\n",
    "        model.eval()\n",
    "        accuracies = []\n",
    "        losses = []\n",
    "        \n",
    "        for batch_id, data in enumerate(test_loader):\n",
    "            \n",
    "            sent = data[0]\n",
    "            label = data[1]\n",
    "\n",
    "            logits = model(sent)\n",
    "            loss = paddle.nn.functional.cross_entropy(logits, label)\n",
    "            acc = paddle.metric.accuracy(logits, label)\n",
    "            \n",
    "            accuracies.append(acc.numpy())\n",
    "            losses.append(loss.numpy())\n",
    "        \n",
    "        avg_acc, avg_loss = np.mean(accuracies), np.mean(losses)\n",
    "\n",
    "        print(\"[validation] accuracy: {}, loss: {}\".format(avg_acc, avg_loss))\n",
    "        \n",
    "        model.train()\n",
    "\n",
    "    paddle.save(model.state_dict(),\"model_final.pdparams\")\n",
    "    \n",
    "    draw_process(\"trainning loss\",\"red\",Iters,total_loss,\"trainning loss\")\n",
    "    draw_process(\"trainning acc\",\"green\",Iters,total_acc,\"trainning acc\")\n",
    "        \n",
    "model = RNN()\n",
    "train(model)"
   ]
  },
  {
   "cell_type": "code",
   "execution_count": 38,
   "metadata": {
    "execution": {
     "iopub.execute_input": "2022-09-19T09:59:16.919672Z",
     "iopub.status.busy": "2022-09-19T09:59:16.918396Z",
     "iopub.status.idle": "2022-09-19T10:03:30.884859Z",
     "shell.execute_reply": "2022-09-19T10:03:30.883903Z",
     "shell.execute_reply.started": "2022-09-19T09:59:16.919629Z"
    },
    "scrolled": true,
    "tags": []
   },
   "outputs": [
    {
     "name": "stdout",
     "output_type": "stream",
     "text": [
      "83599\n"
     ]
    }
   ],
   "source": [
    "model_state_dict = paddle.load('model_final.pdparams')\n",
    "model = RNN()\n",
    "model.set_state_dict(model_state_dict) \n",
    "model.eval()\n",
    "\n",
    "with open('data/dict.txt', 'r', encoding='utf-8') as f_data:\n",
    "    dict_txt = eval(f_data.readlines()[0])\n",
    "\n",
    "with open('data/Test.txt', 'r', encoding='utf-8') as f,open(\"result.txt\",\"w\") as w:\n",
    "    lines=f.readlines()\n",
    "    print(len(lines))\n",
    "    for line in lines:\n",
    "        line=line.strip()\n",
    "        wids = []\n",
    "        for s in line:\n",
    "            if s in dict_txt:\n",
    "                wids.append(dict_txt[s])\n",
    "            else:\n",
    "                wids.append(vocab[\"<unk>\"])\n",
    "        if len(wids)>=150:\n",
    "            wids = np.array(wids[:150]).astype('int64')     \n",
    "        else:\n",
    "            wids = np.concatenate([wids, [vocab[\"<pad>\"]]*(150-len(wids))]).astype('int64')\n",
    "        res = model(to_tensor(wids.reshape([1,150])))\n",
    "        res = np.argmax(res.numpy())\n",
    "        # print(label_all[res])\n",
    "        w.write(label_all[res]+'\\n')\n",
    "        "
   ]
  }
 ],
 "metadata": {
  "kernelspec": {
   "display_name": "Python 3",
   "language": "python",
   "name": "py35-paddle1.2.0"
  },
  "language_info": {
   "codemirror_mode": {
    "name": "ipython",
    "version": 3
   },
   "file_extension": ".py",
   "mimetype": "text/x-python",
   "name": "python",
   "nbconvert_exporter": "python",
   "pygments_lexer": "ipython3",
   "version": "3.7.4"
  }
 },
 "nbformat": 4,
 "nbformat_minor": 4
}
